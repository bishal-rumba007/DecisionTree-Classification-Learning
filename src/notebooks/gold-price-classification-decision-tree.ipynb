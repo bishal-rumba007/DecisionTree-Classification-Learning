{
 "cells": [
  {
   "cell_type": "code",
   "execution_count": 157,
   "id": "initial_id",
   "metadata": {
    "collapsed": true,
    "ExecuteTime": {
     "end_time": "2024-01-22T17:05:15.221820900Z",
     "start_time": "2024-01-22T17:05:15.201723Z"
    }
   },
   "outputs": [],
   "source": [
    "import pandas as pd\n",
    "import graphviz\n",
    "import seaborn as sns\n",
    "import matplotlib.pyplot as plt\n",
    "from sklearn.model_selection import train_test_split\n",
    "from sklearn.tree import DecisionTreeClassifier\n",
    "from sklearn.tree import export_graphviz\n",
    "from sklearn.metrics import classification_report\n",
    "from sklearn.metrics import confusion_matrix\n",
    "from sklearn.preprocessing import LabelEncoder\n",
    "import os"
   ]
  },
  {
   "cell_type": "code",
   "outputs": [],
   "source": [
    "image_directory = r'C:\\Users\\Bishal\\PycharmProjects\\machineLearning1\\src\\images'\n",
    "os.makedirs(image_directory, exist_ok=True)"
   ],
   "metadata": {
    "collapsed": false,
    "ExecuteTime": {
     "end_time": "2024-01-22T17:05:15.255582900Z",
     "start_time": "2024-01-22T17:05:15.228562400Z"
    }
   },
   "id": "4fb75bdf17dd6189",
   "execution_count": 158
  },
  {
   "cell_type": "code",
   "outputs": [],
   "source": [
    "gold_data_path = r'C:\\Users\\Bishal\\PycharmProjects\\machineLearning1\\src\\datasets\\goldstock.csv'\n",
    "gold_data = pd.read_csv(gold_data_path)"
   ],
   "metadata": {
    "collapsed": false,
    "ExecuteTime": {
     "end_time": "2024-01-22T17:05:15.303078700Z",
     "start_time": "2024-01-22T17:05:15.261586700Z"
    }
   },
   "id": "8eeab8fba1b9b404",
   "execution_count": 159
  },
  {
   "cell_type": "code",
   "outputs": [],
   "source": [
    "# Create a new column for price movement direction\n",
    "gold_data['Price_Move'] = gold_data['Close'].diff().apply(lambda x: 'Down' if x < 0 else ('Same' if x == 0 else 'Up'))"
   ],
   "metadata": {
    "collapsed": false,
    "ExecuteTime": {
     "end_time": "2024-01-22T17:05:15.322808600Z",
     "start_time": "2024-01-22T17:05:15.293089500Z"
    }
   },
   "id": "b38ad5e5083a46b7",
   "execution_count": 160
  },
  {
   "cell_type": "code",
   "outputs": [],
   "source": [
    "# Select features\n",
    "features = gold_data[['Volume', 'Open', 'High', 'Low']]\n"
   ],
   "metadata": {
    "collapsed": false,
    "ExecuteTime": {
     "end_time": "2024-01-22T17:05:15.362160700Z",
     "start_time": "2024-01-22T17:05:15.322808600Z"
    }
   },
   "id": "f2525cc628589889",
   "execution_count": 161
  },
  {
   "cell_type": "code",
   "outputs": [],
   "source": [
    "label_encoder = LabelEncoder()\n",
    "y_encoded = label_encoder.fit_transform(gold_data.Price_Move)"
   ],
   "metadata": {
    "collapsed": false,
    "ExecuteTime": {
     "end_time": "2024-01-22T17:05:15.419232600Z",
     "start_time": "2024-01-22T17:05:15.359160500Z"
    }
   },
   "id": "1871bad84c1a0192",
   "execution_count": 162
  },
  {
   "cell_type": "code",
   "outputs": [],
   "source": [
    "# Split the data into training and testing sets\n",
    "X_train, X_test, y_train, y_test = train_test_split(features, gold_data['Price_Move'], test_size=0.2, random_state=42)"
   ],
   "metadata": {
    "collapsed": false,
    "ExecuteTime": {
     "end_time": "2024-01-22T17:05:15.423220700Z",
     "start_time": "2024-01-22T17:05:15.389564900Z"
    }
   },
   "id": "3292db8c989e852a",
   "execution_count": 163
  },
  {
   "cell_type": "code",
   "outputs": [
    {
     "name": "stdout",
     "output_type": "stream",
     "text": [
      "(2008, 4) (503, 4)\n"
     ]
    }
   ],
   "source": [
    "print(X_train.shape, X_test.shape)"
   ],
   "metadata": {
    "collapsed": false,
    "ExecuteTime": {
     "end_time": "2024-01-22T17:05:15.440101500Z",
     "start_time": "2024-01-22T17:05:15.408217400Z"
    }
   },
   "id": "56c31530d8821252",
   "execution_count": 164
  },
  {
   "cell_type": "code",
   "outputs": [],
   "source": [
    "# Create a Decision Tree model\n",
    "dtc = DecisionTreeClassifier(criterion='entropy', max_depth=3)"
   ],
   "metadata": {
    "collapsed": false,
    "ExecuteTime": {
     "end_time": "2024-01-22T17:05:15.514370500Z",
     "start_time": "2024-01-22T17:05:15.434583600Z"
    }
   },
   "id": "fdf6073e575c3403",
   "execution_count": 165
  },
  {
   "cell_type": "code",
   "outputs": [],
   "source": [
    "model = dtc.fit(X_train, y_train)"
   ],
   "metadata": {
    "collapsed": false,
    "ExecuteTime": {
     "end_time": "2024-01-22T17:05:15.565366100Z",
     "start_time": "2024-01-22T17:05:15.449115800Z"
    }
   },
   "id": "ae7cbdc18a52e6d7",
   "execution_count": 166
  },
  {
   "cell_type": "code",
   "outputs": [],
   "source": [
    "predictions = model.predict(X_test)"
   ],
   "metadata": {
    "collapsed": false,
    "ExecuteTime": {
     "end_time": "2024-01-22T17:05:15.567367900Z",
     "start_time": "2024-01-22T17:05:15.473586400Z"
    }
   },
   "id": "e0bec03bc556ad9c",
   "execution_count": 167
  },
  {
   "cell_type": "code",
   "outputs": [
    {
     "data": {
      "text/plain": "<Figure size 800x600 with 2 Axes>",
      "image/png": "[encoded data removed]"
     },
     "metadata": {},
     "output_type": "display_data"
    }
   ],
   "source": [
    "matrix = confusion_matrix(y_test, predictions)\n",
    "plt.figure(figsize=(8, 6))\n",
    "sns.heatmap(matrix, annot=True, fmt=\"d\", cmap=\"Blues\", xticklabels=label_encoder.classes_, yticklabels=label_encoder.classes_)\n",
    "plt.title('Confusion Matrix')\n",
    "plt.xlabel('Predicted Label')\n",
    "plt.ylabel('True Label')\n",
    "plt.show()"
   ],
   "metadata": {
    "collapsed": false,
    "ExecuteTime": {
     "end_time": "2024-01-22T17:05:16.053370700Z",
     "start_time": "2024-01-22T17:05:15.495366900Z"
    }
   },
   "id": "cc21d190d4ce1e87",
   "execution_count": 168
  },
  {
   "cell_type": "code",
   "outputs": [
    {
     "name": "stdout",
     "output_type": "stream",
     "text": [
      "\n",
      "Classification Report:\n",
      "               precision    recall  f1-score   support\n",
      "\n",
      "        Down       0.51      0.89      0.64       255\n",
      "        Same       1.00      0.00      0.00         1\n",
      "          Up       0.48      0.11      0.17       247\n",
      "\n",
      "    accuracy                           0.50       503\n",
      "   macro avg       0.66      0.33      0.27       503\n",
      "weighted avg       0.49      0.50      0.41       503\n"
     ]
    }
   ],
   "source": [
    "classification_rep = classification_report(y_test, predictions, zero_division=1)\n",
    "print(\"\\nClassification Report:\\n\", classification_rep)"
   ],
   "metadata": {
    "collapsed": false,
    "ExecuteTime": {
     "end_time": "2024-01-22T17:05:16.168162700Z",
     "start_time": "2024-01-22T17:05:16.047373800Z"
    }
   },
   "id": "8d6673656144d3fe",
   "execution_count": 169
  },
  {
   "cell_type": "code",
   "outputs": [
    {
     "data": {
      "text/plain": "'C:\\\\Users\\\\Bishal\\\\PycharmProjects\\\\machineLearning1\\\\src\\\\images\\\\gold_price-tree.png'"
     },
     "execution_count": 170,
     "metadata": {},
     "output_type": "execute_result"
    }
   ],
   "source": [
    "dot_data = export_graphviz(\n",
    "    model, out_file=None, feature_names=features.columns,\n",
    "    filled=True, rounded=True, special_characters=True)\n",
    "\n",
    "graph = graphviz.Source(dot_data)\n",
    "image_path = os.path.join(image_directory, 'gold_price-tree')\n",
    "graph.render(image_path, format='png')"
   ],
   "metadata": {
    "collapsed": false,
    "ExecuteTime": {
     "end_time": "2024-01-22T17:05:16.267101400Z",
     "start_time": "2024-01-22T17:05:16.082164700Z"
    }
   },
   "id": "a309d681bb1baa62",
   "execution_count": 170
  },
  {
   "cell_type": "code",
   "outputs": [
    {
     "data": {
      "image/svg+xml": "<?xml version=\"1.0\" encoding=\"UTF-8\" standalone=\"no\"?>\n<!DOCTYPE svg PUBLIC \"-//W3C//DTD SVG 1.1//EN\"\n \"http://www.w3.org/Graphics/SVG/1.1/DTD/svg11.dtd\">\n<!-- Generated by graphviz version 9.0.0 (20230911.1827)\n -->\n<!-- Title: Tree Pages: 1 -->\n<svg width=\"1215pt\" height=\"396pt\"\n viewBox=\"0.00 0.00 1214.62 395.50\" xmlns=\"http://www.w3.org/2000/svg\" xmlns:xlink=\"http://www.w3.org/1999/xlink\">\n<g id=\"graph0\" class=\"graph\" transform=\"scale(1 1) rotate(0) translate(4 391.5)\">\n<title>Tree</title>\n<polygon fill=\"white\" stroke=\"none\" points=\"-4,4 -4,-391.5 1210.62,-391.5 1210.62,4 -4,4\"/>\n<!-- 0 -->\n<g id=\"node1\" class=\"node\">\n<title>0</title>\n<path fill=\"#fdf6f1\" stroke=\"black\" d=\"M630.75,-387.5C630.75,-387.5 501.5,-387.5 501.5,-387.5 495.5,-387.5 489.5,-381.5 489.5,-375.5 489.5,-375.5 489.5,-325.5 489.5,-325.5 489.5,-319.5 495.5,-313.5 501.5,-313.5 501.5,-313.5 630.75,-313.5 630.75,-313.5 636.75,-313.5 642.75,-319.5 642.75,-325.5 642.75,-325.5 642.75,-375.5 642.75,-375.5 642.75,-381.5 636.75,-387.5 630.75,-387.5\"/>\n<text text-anchor=\"start\" x=\"515.88\" y=\"-370.2\" font-family=\"Helvetica,sans-Serif\" font-size=\"14.00\">Volume ≤ 968.5</text>\n<text text-anchor=\"start\" x=\"516.25\" y=\"-353.7\" font-family=\"Helvetica,sans-Serif\" font-size=\"14.00\">entropy = 1.025</text>\n<text text-anchor=\"start\" x=\"514.75\" y=\"-337.2\" font-family=\"Helvetica,sans-Serif\" font-size=\"14.00\">samples = 2008</text>\n<text text-anchor=\"start\" x=\"497.5\" y=\"-320.7\" font-family=\"Helvetica,sans-Serif\" font-size=\"14.00\">value = [1038, 6, 964]</text>\n</g>\n<!-- 1 -->\n<g id=\"node2\" class=\"node\">\n<title>1</title>\n<path fill=\"#f0b48a\" stroke=\"black\" d=\"M467.38,-277.5C467.38,-277.5 362.88,-277.5 362.88,-277.5 356.88,-277.5 350.88,-271.5 350.88,-265.5 350.88,-265.5 350.88,-215.5 350.88,-215.5 350.88,-209.5 356.88,-203.5 362.88,-203.5 362.88,-203.5 467.38,-203.5 467.38,-203.5 473.38,-203.5 479.38,-209.5 479.38,-215.5 479.38,-215.5 479.38,-265.5 479.38,-265.5 479.38,-271.5 473.38,-277.5 467.38,-277.5\"/>\n<text text-anchor=\"start\" x=\"372\" y=\"-260.2\" font-family=\"Helvetica,sans-Serif\" font-size=\"14.00\">Low ≤ 1461.2</text>\n<text text-anchor=\"start\" x=\"365.25\" y=\"-243.7\" font-family=\"Helvetica,sans-Serif\" font-size=\"14.00\">entropy = 0.868</text>\n<text text-anchor=\"start\" x=\"372\" y=\"-227.2\" font-family=\"Helvetica,sans-Serif\" font-size=\"14.00\">samples = 76</text>\n<text text-anchor=\"start\" x=\"358.88\" y=\"-210.7\" font-family=\"Helvetica,sans-Serif\" font-size=\"14.00\">value = [54, 0, 22]</text>\n</g>\n<!-- 0&#45;&gt;1 -->\n<g id=\"edge1\" class=\"edge\">\n<title>0&#45;&gt;1</title>\n<path fill=\"none\" stroke=\"black\" d=\"M515.42,-313.24C502.48,-303.98 488.43,-293.93 475.07,-284.37\"/>\n<polygon fill=\"black\" stroke=\"black\" points=\"477.35,-281.7 467.18,-278.73 473.28,-287.4 477.35,-281.7\"/>\n<text text-anchor=\"middle\" x=\"470.04\" y=\"-297.46\" font-family=\"Helvetica,sans-Serif\" font-size=\"14.00\">True</text>\n</g>\n<!-- 8 -->\n<g id=\"node9\" class=\"node\">\n<title>8</title>\n<path fill=\"#fefaf7\" stroke=\"black\" d=\"M799.62,-277.5C799.62,-277.5 642.62,-277.5 642.62,-277.5 636.62,-277.5 630.62,-271.5 630.62,-265.5 630.62,-265.5 630.62,-215.5 630.62,-215.5 630.62,-209.5 636.62,-203.5 642.62,-203.5 642.62,-203.5 799.62,-203.5 799.62,-203.5 805.62,-203.5 811.62,-209.5 811.62,-215.5 811.62,-215.5 811.62,-265.5 811.62,-265.5 811.62,-271.5 805.62,-277.5 799.62,-277.5\"/>\n<text text-anchor=\"start\" x=\"658.5\" y=\"-260.2\" font-family=\"Helvetica,sans-Serif\" font-size=\"14.00\">Volume ≤ 152607.0</text>\n<text text-anchor=\"start\" x=\"671.25\" y=\"-243.7\" font-family=\"Helvetica,sans-Serif\" font-size=\"14.00\">entropy = 1.027</text>\n<text text-anchor=\"start\" x=\"669.75\" y=\"-227.2\" font-family=\"Helvetica,sans-Serif\" font-size=\"14.00\">samples = 1932</text>\n<text text-anchor=\"start\" x=\"638.62\" y=\"-210.7\" font-family=\"Helvetica,sans-Serif\" font-size=\"14.00\">value = [984.0, 6.0, 942.0]</text>\n</g>\n<!-- 0&#45;&gt;8 -->\n<g id=\"edge8\" class=\"edge\">\n<title>0&#45;&gt;8</title>\n<path fill=\"none\" stroke=\"black\" d=\"M618.17,-313.24C631.46,-303.98 645.87,-293.93 659.59,-284.37\"/>\n<polygon fill=\"black\" stroke=\"black\" points=\"661.51,-287.3 667.71,-278.72 657.51,-281.56 661.51,-287.3\"/>\n<text text-anchor=\"middle\" x=\"664.56\" y=\"-297.41\" font-family=\"Helvetica,sans-Serif\" font-size=\"14.00\">False</text>\n</g>\n<!-- 2 -->\n<g id=\"node3\" class=\"node\">\n<title>2</title>\n<path fill=\"#e88e4e\" stroke=\"black\" d=\"M242.25,-167.5C242.25,-167.5 146,-167.5 146,-167.5 140,-167.5 134,-161.5 134,-155.5 134,-155.5 134,-105.5 134,-105.5 134,-99.5 140,-93.5 146,-93.5 146,-93.5 242.25,-93.5 242.25,-93.5 248.25,-93.5 254.25,-99.5 254.25,-105.5 254.25,-105.5 254.25,-155.5 254.25,-155.5 254.25,-161.5 248.25,-167.5 242.25,-167.5\"/>\n<text text-anchor=\"start\" x=\"145.75\" y=\"-150.2\" font-family=\"Helvetica,sans-Serif\" font-size=\"14.00\">High ≤ 1328.25</text>\n<text text-anchor=\"start\" x=\"144.25\" y=\"-133.7\" font-family=\"Helvetica,sans-Serif\" font-size=\"14.00\">entropy = 0.454</text>\n<text text-anchor=\"start\" x=\"151\" y=\"-117.2\" font-family=\"Helvetica,sans-Serif\" font-size=\"14.00\">samples = 21</text>\n<text text-anchor=\"start\" x=\"142\" y=\"-100.7\" font-family=\"Helvetica,sans-Serif\" font-size=\"14.00\">value = [19, 0, 2]</text>\n</g>\n<!-- 1&#45;&gt;2 -->\n<g id=\"edge2\" class=\"edge\">\n<title>1&#45;&gt;2</title>\n<path fill=\"none\" stroke=\"black\" d=\"M350.61,-207.97C323.72,-194.83 292.41,-179.53 264.9,-166.09\"/>\n<polygon fill=\"black\" stroke=\"black\" points=\"266.43,-162.94 255.91,-161.69 263.36,-169.23 266.43,-162.94\"/>\n</g>\n<!-- 5 -->\n<g id=\"node6\" class=\"node\">\n<title>5</title>\n<path fill=\"#f4c9aa\" stroke=\"black\" d=\"M467.38,-167.5C467.38,-167.5 362.88,-167.5 362.88,-167.5 356.88,-167.5 350.88,-161.5 350.88,-155.5 350.88,-155.5 350.88,-105.5 350.88,-105.5 350.88,-99.5 356.88,-93.5 362.88,-93.5 362.88,-93.5 467.38,-93.5 467.38,-93.5 473.38,-93.5 479.38,-99.5 479.38,-105.5 479.38,-105.5 479.38,-155.5 479.38,-155.5 479.38,-161.5 473.38,-167.5 467.38,-167.5\"/>\n<text text-anchor=\"start\" x=\"367.5\" y=\"-150.2\" font-family=\"Helvetica,sans-Serif\" font-size=\"14.00\">Open ≤ 1966.5</text>\n<text text-anchor=\"start\" x=\"365.25\" y=\"-133.7\" font-family=\"Helvetica,sans-Serif\" font-size=\"14.00\">entropy = 0.946</text>\n<text text-anchor=\"start\" x=\"372\" y=\"-117.2\" font-family=\"Helvetica,sans-Serif\" font-size=\"14.00\">samples = 55</text>\n<text text-anchor=\"start\" x=\"358.88\" y=\"-100.7\" font-family=\"Helvetica,sans-Serif\" font-size=\"14.00\">value = [35, 0, 20]</text>\n</g>\n<!-- 1&#45;&gt;5 -->\n<g id=\"edge5\" class=\"edge\">\n<title>1&#45;&gt;5</title>\n<path fill=\"none\" stroke=\"black\" d=\"M415.12,-203.24C415.12,-195.49 415.12,-187.2 415.12,-179.1\"/>\n<polygon fill=\"black\" stroke=\"black\" points=\"418.63,-179.36 415.13,-169.36 411.63,-179.36 418.63,-179.36\"/>\n</g>\n<!-- 3 -->\n<g id=\"node4\" class=\"node\">\n<title>3</title>\n<path fill=\"#ea985d\" stroke=\"black\" d=\"M108.25,-57.5C108.25,-57.5 12,-57.5 12,-57.5 6,-57.5 0,-51.5 0,-45.5 0,-45.5 0,-12 0,-12 0,-6 6,0 12,0 12,0 108.25,0 108.25,0 114.25,0 120.25,-6 120.25,-12 120.25,-12 120.25,-45.5 120.25,-45.5 120.25,-51.5 114.25,-57.5 108.25,-57.5\"/>\n<text text-anchor=\"start\" x=\"10.25\" y=\"-40.2\" font-family=\"Helvetica,sans-Serif\" font-size=\"14.00\">entropy = 0.619</text>\n<text text-anchor=\"start\" x=\"17\" y=\"-23.7\" font-family=\"Helvetica,sans-Serif\" font-size=\"14.00\">samples = 13</text>\n<text text-anchor=\"start\" x=\"8\" y=\"-7.2\" font-family=\"Helvetica,sans-Serif\" font-size=\"14.00\">value = [11, 0, 2]</text>\n</g>\n<!-- 2&#45;&gt;3 -->\n<g id=\"edge3\" class=\"edge\">\n<title>2&#45;&gt;3</title>\n<path fill=\"none\" stroke=\"black\" d=\"M145.37,-93.21C132.72,-83.79 119.14,-73.68 106.61,-64.36\"/>\n<polygon fill=\"black\" stroke=\"black\" points=\"109.03,-61.8 98.92,-58.63 104.85,-67.41 109.03,-61.8\"/>\n</g>\n<!-- 4 -->\n<g id=\"node5\" class=\"node\">\n<title>4</title>\n<path fill=\"#e58139\" stroke=\"black\" d=\"M238.12,-57.5C238.12,-57.5 150.12,-57.5 150.12,-57.5 144.12,-57.5 138.12,-51.5 138.12,-45.5 138.12,-45.5 138.12,-12 138.12,-12 138.12,-6 144.12,0 150.12,0 150.12,0 238.12,0 238.12,0 244.12,0 250.12,-6 250.12,-12 250.12,-12 250.12,-45.5 250.12,-45.5 250.12,-51.5 244.12,-57.5 238.12,-57.5\"/>\n<text text-anchor=\"start\" x=\"152.5\" y=\"-40.2\" font-family=\"Helvetica,sans-Serif\" font-size=\"14.00\">entropy = 0.0</text>\n<text text-anchor=\"start\" x=\"155.12\" y=\"-23.7\" font-family=\"Helvetica,sans-Serif\" font-size=\"14.00\">samples = 8</text>\n<text text-anchor=\"start\" x=\"146.12\" y=\"-7.2\" font-family=\"Helvetica,sans-Serif\" font-size=\"14.00\">value = [8, 0, 0]</text>\n</g>\n<!-- 2&#45;&gt;4 -->\n<g id=\"edge4\" class=\"edge\">\n<title>2&#45;&gt;4</title>\n<path fill=\"none\" stroke=\"black\" d=\"M194.12,-93.21C194.12,-85.35 194.12,-77 194.12,-69.03\"/>\n<polygon fill=\"black\" stroke=\"black\" points=\"197.63,-69.24 194.13,-59.24 190.63,-69.24 197.63,-69.24\"/>\n</g>\n<!-- 6 -->\n<g id=\"node7\" class=\"node\">\n<title>6</title>\n<path fill=\"#f6d2b9\" stroke=\"black\" d=\"M420.38,-57.5C420.38,-57.5 279.88,-57.5 279.88,-57.5 273.88,-57.5 267.88,-51.5 267.88,-45.5 267.88,-45.5 267.88,-12 267.88,-12 267.88,-6 273.88,0 279.88,0 279.88,0 420.38,0 420.38,0 426.38,0 432.38,-6 432.38,-12 432.38,-12 432.38,-45.5 432.38,-45.5 432.38,-51.5 426.38,-57.5 420.38,-57.5\"/>\n<text text-anchor=\"start\" x=\"300.25\" y=\"-40.2\" font-family=\"Helvetica,sans-Serif\" font-size=\"14.00\">entropy = 0.966</text>\n<text text-anchor=\"start\" x=\"307\" y=\"-23.7\" font-family=\"Helvetica,sans-Serif\" font-size=\"14.00\">samples = 51</text>\n<text text-anchor=\"start\" x=\"275.88\" y=\"-7.2\" font-family=\"Helvetica,sans-Serif\" font-size=\"14.00\">value = [31.0, 0.0, 20.0]</text>\n</g>\n<!-- 5&#45;&gt;6 -->\n<g id=\"edge6\" class=\"edge\">\n<title>5&#45;&gt;6</title>\n<path fill=\"none\" stroke=\"black\" d=\"M391.47,-93.21C386,-84.8 380.15,-75.83 374.64,-67.37\"/>\n<polygon fill=\"black\" stroke=\"black\" points=\"377.57,-65.46 369.18,-59 371.71,-69.28 377.57,-65.46\"/>\n</g>\n<!-- 7 -->\n<g id=\"node8\" class=\"node\">\n<title>7</title>\n<path fill=\"#e58139\" stroke=\"black\" d=\"M550.12,-57.5C550.12,-57.5 462.12,-57.5 462.12,-57.5 456.12,-57.5 450.12,-51.5 450.12,-45.5 450.12,-45.5 450.12,-12 450.12,-12 450.12,-6 456.12,0 462.12,0 462.12,0 550.12,0 550.12,0 556.12,0 562.12,-6 562.12,-12 562.12,-12 562.12,-45.5 562.12,-45.5 562.12,-51.5 556.12,-57.5 550.12,-57.5\"/>\n<text text-anchor=\"start\" x=\"464.5\" y=\"-40.2\" font-family=\"Helvetica,sans-Serif\" font-size=\"14.00\">entropy = 0.0</text>\n<text text-anchor=\"start\" x=\"467.12\" y=\"-23.7\" font-family=\"Helvetica,sans-Serif\" font-size=\"14.00\">samples = 4</text>\n<text text-anchor=\"start\" x=\"458.12\" y=\"-7.2\" font-family=\"Helvetica,sans-Serif\" font-size=\"14.00\">value = [4, 0, 0]</text>\n</g>\n<!-- 5&#45;&gt;7 -->\n<g id=\"edge7\" class=\"edge\">\n<title>5&#45;&gt;7</title>\n<path fill=\"none\" stroke=\"black\" d=\"M448.24,-93.21C456.32,-84.34 464.98,-74.86 473.06,-65.99\"/>\n<polygon fill=\"black\" stroke=\"black\" points=\"475.43,-68.59 479.58,-58.85 470.26,-63.87 475.43,-68.59\"/>\n</g>\n<!-- 9 -->\n<g id=\"node10\" class=\"node\">\n<title>9</title>\n<path fill=\"#f0e7fc\" stroke=\"black\" d=\"M781.62,-167.5C781.62,-167.5 660.62,-167.5 660.62,-167.5 654.62,-167.5 648.62,-161.5 648.62,-155.5 648.62,-155.5 648.62,-105.5 648.62,-105.5 648.62,-99.5 654.62,-93.5 660.62,-93.5 660.62,-93.5 781.62,-93.5 781.62,-93.5 787.62,-93.5 793.62,-99.5 793.62,-105.5 793.62,-105.5 793.62,-155.5 793.62,-155.5 793.62,-161.5 787.62,-167.5 781.62,-167.5\"/>\n<text text-anchor=\"start\" x=\"658.5\" y=\"-150.2\" font-family=\"Helvetica,sans-Serif\" font-size=\"14.00\">Volume ≤ 133142.0</text>\n<text text-anchor=\"start\" x=\"671.25\" y=\"-133.7\" font-family=\"Helvetica,sans-Serif\" font-size=\"14.00\">entropy = 1.023</text>\n<text text-anchor=\"start\" x=\"673.88\" y=\"-117.2\" font-family=\"Helvetica,sans-Serif\" font-size=\"14.00\">samples = 695</text>\n<text text-anchor=\"start\" x=\"656.62\" y=\"-100.7\" font-family=\"Helvetica,sans-Serif\" font-size=\"14.00\">value = [324, 2, 369]</text>\n</g>\n<!-- 8&#45;&gt;9 -->\n<g id=\"edge9\" class=\"edge\">\n<title>8&#45;&gt;9</title>\n<path fill=\"none\" stroke=\"black\" d=\"M721.12,-203.24C721.12,-195.49 721.12,-187.2 721.12,-179.1\"/>\n<polygon fill=\"black\" stroke=\"black\" points=\"724.63,-179.36 721.13,-169.36 717.63,-179.36 724.63,-179.36\"/>\n</g>\n<!-- 12 -->\n<g id=\"node13\" class=\"node\">\n<title>12</title>\n<path fill=\"#fceee5\" stroke=\"black\" d=\"M1049.62,-167.5C1049.62,-167.5 892.62,-167.5 892.62,-167.5 886.62,-167.5 880.62,-161.5 880.62,-155.5 880.62,-155.5 880.62,-105.5 880.62,-105.5 880.62,-99.5 886.62,-93.5 892.62,-93.5 892.62,-93.5 1049.62,-93.5 1049.62,-93.5 1055.62,-93.5 1061.62,-99.5 1061.62,-105.5 1061.62,-105.5 1061.62,-155.5 1061.62,-155.5 1061.62,-161.5 1055.62,-167.5 1049.62,-167.5\"/>\n<text text-anchor=\"start\" x=\"908.5\" y=\"-150.2\" font-family=\"Helvetica,sans-Serif\" font-size=\"14.00\">Volume ≤ 183431.5</text>\n<text text-anchor=\"start\" x=\"921.25\" y=\"-133.7\" font-family=\"Helvetica,sans-Serif\" font-size=\"14.00\">entropy = 1.025</text>\n<text text-anchor=\"start\" x=\"919.75\" y=\"-117.2\" font-family=\"Helvetica,sans-Serif\" font-size=\"14.00\">samples = 1237</text>\n<text text-anchor=\"start\" x=\"888.62\" y=\"-100.7\" font-family=\"Helvetica,sans-Serif\" font-size=\"14.00\">value = [660.0, 4.0, 573.0]</text>\n</g>\n<!-- 8&#45;&gt;12 -->\n<g id=\"edge12\" class=\"edge\">\n<title>8&#45;&gt;12</title>\n<path fill=\"none\" stroke=\"black\" d=\"M805.42,-203.09C828.26,-193.22 853.14,-182.47 876.51,-172.37\"/>\n<polygon fill=\"black\" stroke=\"black\" points=\"877.59,-175.72 885.39,-168.54 874.82,-169.29 877.59,-175.72\"/>\n</g>\n<!-- 10 -->\n<g id=\"node11\" class=\"node\">\n<title>10</title>\n<path fill=\"#fefcfa\" stroke=\"black\" d=\"M713.62,-57.5C713.62,-57.5 592.62,-57.5 592.62,-57.5 586.62,-57.5 580.62,-51.5 580.62,-45.5 580.62,-45.5 580.62,-12 580.62,-12 580.62,-6 586.62,0 592.62,0 592.62,0 713.62,0 713.62,0 719.62,0 725.62,-6 725.62,-12 725.62,-12 725.62,-45.5 725.62,-45.5 725.62,-51.5 719.62,-57.5 713.62,-57.5\"/>\n<text text-anchor=\"start\" x=\"603.25\" y=\"-40.2\" font-family=\"Helvetica,sans-Serif\" font-size=\"14.00\">entropy = 1.034</text>\n<text text-anchor=\"start\" x=\"605.88\" y=\"-23.7\" font-family=\"Helvetica,sans-Serif\" font-size=\"14.00\">samples = 484</text>\n<text text-anchor=\"start\" x=\"588.62\" y=\"-7.2\" font-family=\"Helvetica,sans-Serif\" font-size=\"14.00\">value = [244, 2, 238]</text>\n</g>\n<!-- 9&#45;&gt;10 -->\n<g id=\"edge10\" class=\"edge\">\n<title>9&#45;&gt;10</title>\n<path fill=\"none\" stroke=\"black\" d=\"M696.38,-93.21C690.59,-84.71 684.41,-75.64 678.58,-67.09\"/>\n<polygon fill=\"black\" stroke=\"black\" points=\"681.57,-65.27 673.05,-58.98 675.79,-69.21 681.57,-65.27\"/>\n</g>\n<!-- 11 -->\n<g id=\"node12\" class=\"node\">\n<title>11</title>\n<path fill=\"#ceb2f5\" stroke=\"black\" d=\"M868.5,-57.5C868.5,-57.5 755.75,-57.5 755.75,-57.5 749.75,-57.5 743.75,-51.5 743.75,-45.5 743.75,-45.5 743.75,-12 743.75,-12 743.75,-6 749.75,0 755.75,0 755.75,0 868.5,0 868.5,0 874.5,0 880.5,-6 880.5,-12 880.5,-12 880.5,-45.5 880.5,-45.5 880.5,-51.5 874.5,-57.5 868.5,-57.5\"/>\n<text text-anchor=\"start\" x=\"762.25\" y=\"-40.2\" font-family=\"Helvetica,sans-Serif\" font-size=\"14.00\">entropy = 0.957</text>\n<text text-anchor=\"start\" x=\"764.88\" y=\"-23.7\" font-family=\"Helvetica,sans-Serif\" font-size=\"14.00\">samples = 211</text>\n<text text-anchor=\"start\" x=\"751.75\" y=\"-7.2\" font-family=\"Helvetica,sans-Serif\" font-size=\"14.00\">value = [80, 0, 131]</text>\n</g>\n<!-- 9&#45;&gt;11 -->\n<g id=\"edge11\" class=\"edge\">\n<title>9&#45;&gt;11</title>\n<path fill=\"none\" stroke=\"black\" d=\"M754.24,-93.21C762.32,-84.34 770.98,-74.86 779.06,-65.99\"/>\n<polygon fill=\"black\" stroke=\"black\" points=\"781.43,-68.59 785.58,-58.85 776.26,-63.87 781.43,-68.59\"/>\n</g>\n<!-- 13 -->\n<g id=\"node14\" class=\"node\">\n<title>13</title>\n<path fill=\"#f7d7c1\" stroke=\"black\" d=\"M1031.62,-57.5C1031.62,-57.5 910.62,-57.5 910.62,-57.5 904.62,-57.5 898.62,-51.5 898.62,-45.5 898.62,-45.5 898.62,-12 898.62,-12 898.62,-6 904.62,0 910.62,0 910.62,0 1031.62,0 1031.62,0 1037.62,0 1043.62,-6 1043.62,-12 1043.62,-12 1043.62,-45.5 1043.62,-45.5 1043.62,-51.5 1037.62,-57.5 1031.62,-57.5\"/>\n<text text-anchor=\"start\" x=\"921.25\" y=\"-40.2\" font-family=\"Helvetica,sans-Serif\" font-size=\"14.00\">entropy = 0.975</text>\n<text text-anchor=\"start\" x=\"923.88\" y=\"-23.7\" font-family=\"Helvetica,sans-Serif\" font-size=\"14.00\">samples = 315</text>\n<text text-anchor=\"start\" x=\"906.62\" y=\"-7.2\" font-family=\"Helvetica,sans-Serif\" font-size=\"14.00\">value = [187, 0, 128]</text>\n</g>\n<!-- 12&#45;&gt;13 -->\n<g id=\"edge13\" class=\"edge\">\n<title>12&#45;&gt;13</title>\n<path fill=\"none\" stroke=\"black\" d=\"M971.12,-93.21C971.12,-85.35 971.12,-77 971.12,-69.03\"/>\n<polygon fill=\"black\" stroke=\"black\" points=\"974.63,-69.24 971.13,-59.24 967.63,-69.24 974.63,-69.24\"/>\n</g>\n<!-- 14 -->\n<g id=\"node15\" class=\"node\">\n<title>14</title>\n<path fill=\"#fdf8f3\" stroke=\"black\" d=\"M1194.62,-57.5C1194.62,-57.5 1073.62,-57.5 1073.62,-57.5 1067.62,-57.5 1061.62,-51.5 1061.62,-45.5 1061.62,-45.5 1061.62,-12 1061.62,-12 1061.62,-6 1067.62,0 1073.62,0 1073.62,0 1194.62,0 1194.62,0 1200.62,0 1206.62,-6 1206.62,-12 1206.62,-12 1206.62,-45.5 1206.62,-45.5 1206.62,-51.5 1200.62,-57.5 1194.62,-57.5\"/>\n<text text-anchor=\"start\" x=\"1084.25\" y=\"-40.2\" font-family=\"Helvetica,sans-Serif\" font-size=\"14.00\">entropy = 1.035</text>\n<text text-anchor=\"start\" x=\"1086.88\" y=\"-23.7\" font-family=\"Helvetica,sans-Serif\" font-size=\"14.00\">samples = 922</text>\n<text text-anchor=\"start\" x=\"1069.62\" y=\"-7.2\" font-family=\"Helvetica,sans-Serif\" font-size=\"14.00\">value = [473, 4, 445]</text>\n</g>\n<!-- 12&#45;&gt;14 -->\n<g id=\"edge14\" class=\"edge\">\n<title>12&#45;&gt;14</title>\n<path fill=\"none\" stroke=\"black\" d=\"M1030.43,-93.21C1046.19,-83.56 1063.14,-73.19 1078.68,-63.68\"/>\n<polygon fill=\"black\" stroke=\"black\" points=\"1080.16,-66.88 1086.86,-58.68 1076.5,-60.91 1080.16,-66.88\"/>\n</g>\n</g>\n</svg>\n",
      "text/plain": "<graphviz.sources.Source at 0x18fa1435580>"
     },
     "execution_count": 171,
     "metadata": {},
     "output_type": "execute_result"
    }
   ],
   "source": [
    "graph"
   ],
   "metadata": {
    "collapsed": false,
    "ExecuteTime": {
     "end_time": "2024-01-22T17:05:16.343263200Z",
     "start_time": "2024-01-22T17:05:16.267101400Z"
    }
   },
   "id": "460fffbf9874c2f",
   "execution_count": 171
  },
  {
   "cell_type": "code",
   "outputs": [],
   "source": [],
   "metadata": {
    "collapsed": false,
    "ExecuteTime": {
     "end_time": "2024-01-22T17:05:16.357085100Z",
     "start_time": "2024-01-22T17:05:16.347112300Z"
    }
   },
   "id": "da456bd84975025",
   "execution_count": 171
  }
 ],
 "metadata": {
  "kernelspec": {
   "display_name": "Python 3",
   "language": "python",
   "name": "python3"
  },
  "language_info": {
   "codemirror_mode": {
    "name": "ipython",
    "version": 2
   },
   "file_extension": ".py",
   "mimetype": "text/x-python",
   "name": "python",
   "nbconvert_exporter": "python",
   "pygments_lexer": "ipython2",
   "version": "2.7.6"
  }
 },
 "nbformat": 4,
 "nbformat_minor": 5
}
