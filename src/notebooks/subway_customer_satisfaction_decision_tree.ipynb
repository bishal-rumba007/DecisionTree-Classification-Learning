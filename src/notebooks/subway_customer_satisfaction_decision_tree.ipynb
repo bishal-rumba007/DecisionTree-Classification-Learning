{
 "cells": [
  {
   "cell_type": "code",
   "execution_count": 175,
   "id": "initial_id",
   "metadata": {
    "collapsed": true,
    "ExecuteTime": {
     "end_time": "2024-01-22T17:01:50.927726900Z",
     "start_time": "2024-01-22T17:01:50.837803400Z"
    }
   },
   "outputs": [],
   "source": [
    "import pandas as pd\n",
    "import matplotlib.pyplot as plt\n",
    "import seaborn as sns\n",
    "from sklearn.model_selection import train_test_split\n",
    "from sklearn.tree import DecisionTreeClassifier, export_graphviz\n",
    "from sklearn.metrics import confusion_matrix, classification_report\n",
    "from sklearn.preprocessing import LabelEncoder\n",
    "import os\n",
    "import graphviz"
   ]
  },
  {
   "cell_type": "code",
   "outputs": [],
   "source": [
    "image_directory = r'C:\\Users\\Bishal\\PycharmProjects\\machineLearning1\\src\\images'\n",
    "os.makedirs(image_directory, exist_ok=True)"
   ],
   "metadata": {
    "collapsed": false,
    "ExecuteTime": {
     "end_time": "2024-01-22T17:01:50.964846Z",
     "start_time": "2024-01-22T17:01:50.898292600Z"
    }
   },
   "id": "d087ed0699f22da4",
   "execution_count": 176
  },
  {
   "cell_type": "code",
   "outputs": [],
   "source": [
    "# Load the Subway dataset\n",
    "subway_file_path = r'C:\\Users\\Bishal\\PycharmProjects\\machineLearning1\\src\\datasets\\Sub_Sandwiches_OSAT.csv'\n",
    "subway_data = pd.read_csv(subway_file_path)"
   ],
   "metadata": {
    "collapsed": false,
    "ExecuteTime": {
     "end_time": "2024-01-22T17:01:50.989835400Z",
     "start_time": "2024-01-22T17:01:50.939741400Z"
    }
   },
   "id": "b6040d84e7c396f5",
   "execution_count": 177
  },
  {
   "cell_type": "code",
   "outputs": [],
   "source": [
    "# Convert the 'OSAT' column to numerical values\n",
    "le = LabelEncoder()\n",
    "subway_data['OSAT'] = le.fit_transform(subway_data['OSAT'])"
   ],
   "metadata": {
    "collapsed": false,
    "ExecuteTime": {
     "end_time": "2024-01-22T17:01:51.010789800Z",
     "start_time": "2024-01-22T17:01:50.992838300Z"
    }
   },
   "id": "f7a219ffa9161476",
   "execution_count": 178
  },
  {
   "cell_type": "code",
   "outputs": [],
   "source": [
    "# Restrict the dataset to only 3 unique classes\n",
    "subway_data = subway_data[subway_data['OSAT'].isin([0, 1, 2])]"
   ],
   "metadata": {
    "collapsed": false,
    "ExecuteTime": {
     "end_time": "2024-01-22T17:01:51.056425300Z",
     "start_time": "2024-01-22T17:01:51.014788300Z"
    }
   },
   "id": "38ffec848591864f",
   "execution_count": 179
  },
  {
   "cell_type": "code",
   "outputs": [],
   "source": [
    "# Identify features and target variable\n",
    "feature_columns = subway_data.columns[2:]\n",
    "target_column = 'OSAT'"
   ],
   "metadata": {
    "collapsed": false,
    "ExecuteTime": {
     "end_time": "2024-01-22T17:01:51.099036700Z",
     "start_time": "2024-01-22T17:01:51.042423200Z"
    }
   },
   "id": "f8273b66af332920",
   "execution_count": 180
  },
  {
   "cell_type": "markdown",
   "source": [],
   "metadata": {
    "collapsed": false
   },
   "id": "77bc7cfe816bc2d9"
  },
  {
   "cell_type": "code",
   "outputs": [],
   "source": [
    "# Extract features and target\n",
    "features = subway_data[feature_columns].values\n",
    "target = subway_data[target_column].values"
   ],
   "metadata": {
    "collapsed": false,
    "ExecuteTime": {
     "end_time": "2024-01-22T17:01:51.118038400Z",
     "start_time": "2024-01-22T17:01:51.083027Z"
    }
   },
   "id": "dcaef4b216e18148",
   "execution_count": 181
  },
  {
   "cell_type": "code",
   "outputs": [
    {
     "data": {
      "text/plain": "(469, 41)"
     },
     "execution_count": 182,
     "metadata": {},
     "output_type": "execute_result"
    }
   ],
   "source": [
    "features.shape"
   ],
   "metadata": {
    "collapsed": false,
    "ExecuteTime": {
     "end_time": "2024-01-22T17:01:51.174337700Z",
     "start_time": "2024-01-22T17:01:51.124038400Z"
    }
   },
   "id": "fe0aa1ebee96da1b",
   "execution_count": 182
  },
  {
   "cell_type": "code",
   "outputs": [
    {
     "data": {
      "text/plain": "(469,)"
     },
     "execution_count": 183,
     "metadata": {},
     "output_type": "execute_result"
    }
   ],
   "source": [
    "target.shape"
   ],
   "metadata": {
    "collapsed": false,
    "ExecuteTime": {
     "end_time": "2024-01-22T17:01:51.236553100Z",
     "start_time": "2024-01-22T17:01:51.160341200Z"
    }
   },
   "id": "fd0df19162326216",
   "execution_count": 183
  },
  {
   "cell_type": "code",
   "outputs": [
    {
     "data": {
      "text/plain": "array([1., 5., 1., 4., 1., 1., 1., 1., 1., 1., 3., 1., 1., 1., 4., 1., 5.,\n       2., 1., 4., 2., 2., 1., 1., 5., 1., 4., 3., 4., 4., 1., 5., 1., 3.,\n       2., 1., 1., 2., 2., 1., 1.])"
     },
     "execution_count": 184,
     "metadata": {},
     "output_type": "execute_result"
    }
   ],
   "source": [
    "features[0]"
   ],
   "metadata": {
    "collapsed": false,
    "ExecuteTime": {
     "end_time": "2024-01-22T17:01:51.256554100Z",
     "start_time": "2024-01-22T17:01:51.223332100Z"
    }
   },
   "id": "e930b9c4abf1b135",
   "execution_count": 184
  },
  {
   "cell_type": "code",
   "outputs": [],
   "source": [
    "# Split the data into training and testing sets\n",
    "training_features, test_features, training_target, test_target = train_test_split(\n",
    "    features, target, test_size=0.2, random_state=42)"
   ],
   "metadata": {
    "collapsed": false,
    "ExecuteTime": {
     "end_time": "2024-01-22T17:01:51.342577900Z",
     "start_time": "2024-01-22T17:01:51.260555900Z"
    }
   },
   "id": "a53c82f23ff55a35",
   "execution_count": 185
  },
  {
   "cell_type": "code",
   "outputs": [
    {
     "name": "stdout",
     "output_type": "stream",
     "text": [
      "(375, 41) (94, 41)\n"
     ]
    }
   ],
   "source": [
    "print(training_features.shape, test_features.shape)"
   ],
   "metadata": {
    "collapsed": false,
    "ExecuteTime": {
     "end_time": "2024-01-22T17:01:51.366501600Z",
     "start_time": "2024-01-22T17:01:51.328999900Z"
    }
   },
   "id": "54aaac94d406fb22",
   "execution_count": 186
  },
  {
   "cell_type": "code",
   "outputs": [],
   "source": [
    "# Create a Decision Tree model\n",
    "dtc = DecisionTreeClassifier(criterion='entropy')"
   ],
   "metadata": {
    "collapsed": false,
    "ExecuteTime": {
     "end_time": "2024-01-22T17:01:51.427258100Z",
     "start_time": "2024-01-22T17:01:51.353611300Z"
    }
   },
   "id": "988851cc25e541c4",
   "execution_count": 187
  },
  {
   "cell_type": "code",
   "outputs": [],
   "source": [
    "# Train the model\n",
    "model = dtc.fit(training_features, training_target)"
   ],
   "metadata": {
    "collapsed": false,
    "ExecuteTime": {
     "end_time": "2024-01-22T17:01:51.447266800Z",
     "start_time": "2024-01-22T17:01:51.392507800Z"
    }
   },
   "id": "a207eee962a7137c",
   "execution_count": 188
  },
  {
   "cell_type": "code",
   "outputs": [],
   "source": [
    "# Make prediction\n",
    "predictions = model.predict(test_features)"
   ],
   "metadata": {
    "collapsed": false,
    "ExecuteTime": {
     "end_time": "2024-01-22T17:01:51.497918600Z",
     "start_time": "2024-01-22T17:01:51.449264Z"
    }
   },
   "id": "d745506d6eed4778",
   "execution_count": 189
  },
  {
   "cell_type": "code",
   "outputs": [],
   "source": [
    "# Create a DataFrame for visualization\n",
    "df_visualization = pd.DataFrame(data=test_features, columns=feature_columns)\n",
    "df_visualization['target'] = test_target"
   ],
   "metadata": {
    "collapsed": false,
    "ExecuteTime": {
     "end_time": "2024-01-22T17:01:51.534916200Z",
     "start_time": "2024-01-22T17:01:51.488007200Z"
    }
   },
   "id": "87c6e58c17fbf41f",
   "execution_count": 190
  },
  {
   "cell_type": "code",
   "outputs": [
    {
     "data": {
      "text/plain": "<Figure size 557.75x500 with 1 Axes>",
      "image/png": "[encoded data removed]"
     },
     "metadata": {},
     "output_type": "display_data"
    }
   ],
   "source": [
    "# Scatter plot using Seaborn\n",
    "sns.relplot(\n",
    "    x=feature_columns[0], y=feature_columns[1], hue='target', style='target', palette='viridis', data=df_visualization)\n",
    "plt.show()"
   ],
   "metadata": {
    "collapsed": false,
    "ExecuteTime": {
     "end_time": "2024-01-22T17:01:52.697849100Z",
     "start_time": "2024-01-22T17:01:51.527923300Z"
    }
   },
   "id": "8890aa28496cfa61",
   "execution_count": 191
  },
  {
   "cell_type": "code",
   "outputs": [
    {
     "data": {
      "text/plain": "<Figure size 557.75x500 with 1 Axes>",
      "image/png": "[encoded data removed]"
     },
     "metadata": {},
     "output_type": "display_data"
    }
   ],
   "source": [
    "# Scatter plot using Seaborn\n",
    "sns.relplot(\n",
    "    x=feature_columns[0], y=feature_columns[13], hue='target', style='target', palette='viridis', data=df_visualization)\n",
    "plt.show()"
   ],
   "metadata": {
    "collapsed": false,
    "ExecuteTime": {
     "end_time": "2024-01-22T17:01:53.412850900Z",
     "start_time": "2024-01-22T17:01:52.691852800Z"
    }
   },
   "id": "cb80d1945d8984cb",
   "execution_count": 192
  },
  {
   "cell_type": "code",
   "outputs": [
    {
     "name": "stdout",
     "output_type": "stream",
     "text": [
      "Confusion Matrix:\n",
      " [[11  0  0]\n",
      " [ 0 29  0]\n",
      " [ 0  0 54]]\n"
     ]
    }
   ],
   "source": [
    "#Evaluate the model\n",
    "matrix = confusion_matrix(test_target, predictions)\n",
    "print(\"Confusion Matrix:\\n\", matrix)"
   ],
   "metadata": {
    "collapsed": false,
    "ExecuteTime": {
     "end_time": "2024-01-22T17:01:53.426164700Z",
     "start_time": "2024-01-22T17:01:53.407855800Z"
    }
   },
   "id": "38a6235485853fd",
   "execution_count": 193
  },
  {
   "cell_type": "code",
   "outputs": [
    {
     "name": "stdout",
     "output_type": "stream",
     "text": [
      "\n",
      "Classification Report:\n",
      "               precision    recall  f1-score   support\n",
      "\n",
      "           0       1.00      1.00      1.00        11\n",
      "           1       1.00      1.00      1.00        29\n",
      "           2       1.00      1.00      1.00        54\n",
      "\n",
      "    accuracy                           1.00        94\n",
      "   macro avg       1.00      1.00      1.00        94\n",
      "weighted avg       1.00      1.00      1.00        94\n"
     ]
    }
   ],
   "source": [
    "#create classification report\n",
    "classification_rep = classification_report(test_target, predictions)\n",
    "print(\"\\nClassification Report:\\n\", classification_rep)"
   ],
   "metadata": {
    "collapsed": false,
    "ExecuteTime": {
     "end_time": "2024-01-22T17:01:53.527136500Z",
     "start_time": "2024-01-22T17:01:53.421164400Z"
    }
   },
   "id": "6cfdd7d9c470eaaa",
   "execution_count": 194
  },
  {
   "cell_type": "code",
   "outputs": [
    {
     "data": {
      "text/plain": "'C:\\\\Users\\\\Bishal\\\\PycharmProjects\\\\machineLearning1\\\\src\\\\images\\\\decision_tree.png'"
     },
     "execution_count": 195,
     "metadata": {},
     "output_type": "execute_result"
    }
   ],
   "source": [
    "dot_data = export_graphviz(\n",
    "    model, out_file=None, feature_names=feature_columns,\n",
    "    filled=True, rounded=True, special_characters=True)\n",
    "graph = graphviz.Source(dot_data)\n",
    "image_path = os.path.join(image_directory, 'decision_tree')\n",
    "graph.render(image_path, format='png')"
   ],
   "metadata": {
    "collapsed": false,
    "ExecuteTime": {
     "end_time": "2024-01-22T17:01:53.585355500Z",
     "start_time": "2024-01-22T17:01:53.450133900Z"
    }
   },
   "id": "1a4fde293d86a5ee",
   "execution_count": 195
  },
  {
   "cell_type": "code",
   "outputs": [
    {
     "data": {
      "image/svg+xml": "<?xml version=\"1.0\" encoding=\"UTF-8\" standalone=\"no\"?>\n<!DOCTYPE svg PUBLIC \"-//W3C//DTD SVG 1.1//EN\"\n \"http://www.w3.org/Graphics/SVG/1.1/DTD/svg11.dtd\">\n<!-- Generated by graphviz version 9.0.0 (20230911.1827)\n -->\n<!-- Title: Tree Pages: 1 -->\n<svg width=\"572pt\" height=\"286pt\"\n viewBox=\"0.00 0.00 572.38 285.50\" xmlns=\"http://www.w3.org/2000/svg\" xmlns:xlink=\"http://www.w3.org/1999/xlink\">\n<g id=\"graph0\" class=\"graph\" transform=\"scale(1 1) rotate(0) translate(4 281.5)\">\n<title>Tree</title>\n<polygon fill=\"white\" stroke=\"none\" points=\"-4,4 -4,-281.5 568.38,-281.5 568.38,4 -4,4\"/>\n<!-- 0 -->\n<g id=\"node1\" class=\"node\">\n<title>0</title>\n<path fill=\"#d7c1f7\" stroke=\"black\" d=\"M364.75,-277.5C364.75,-277.5 199.5,-277.5 199.5,-277.5 193.5,-277.5 187.5,-271.5 187.5,-265.5 187.5,-265.5 187.5,-215.5 187.5,-215.5 187.5,-209.5 193.5,-203.5 199.5,-203.5 199.5,-203.5 364.75,-203.5 364.75,-203.5 370.75,-203.5 376.75,-209.5 376.75,-215.5 376.75,-215.5 376.75,-265.5 376.75,-265.5 376.75,-271.5 370.75,-277.5 364.75,-277.5\"/>\n<text text-anchor=\"start\" x=\"244.62\" y=\"-260.2\" font-family=\"Helvetica,sans-Serif\" font-size=\"14.00\">OSAT ≤ 1.5</text>\n<text text-anchor=\"start\" x=\"236.38\" y=\"-243.7\" font-family=\"Helvetica,sans-Serif\" font-size=\"14.00\">entropy = 1.45</text>\n<text text-anchor=\"start\" x=\"234.88\" y=\"-227.2\" font-family=\"Helvetica,sans-Serif\" font-size=\"14.00\">samples = 375</text>\n<text text-anchor=\"start\" x=\"195.5\" y=\"-210.7\" font-family=\"Helvetica,sans-Serif\" font-size=\"14.00\">value = [65.0, 114.0, 196.0]</text>\n</g>\n<!-- 1 -->\n<g id=\"node2\" class=\"node\">\n<title>1</title>\n<path fill=\"#aaf4c9\" stroke=\"black\" d=\"M247.5,-167.5C247.5,-167.5 134.75,-167.5 134.75,-167.5 128.75,-167.5 122.75,-161.5 122.75,-155.5 122.75,-155.5 122.75,-105.5 122.75,-105.5 122.75,-99.5 128.75,-93.5 134.75,-93.5 134.75,-93.5 247.5,-93.5 247.5,-93.5 253.5,-93.5 259.5,-99.5 259.5,-105.5 259.5,-105.5 259.5,-155.5 259.5,-155.5 259.5,-161.5 253.5,-167.5 247.5,-167.5\"/>\n<text text-anchor=\"start\" x=\"153.62\" y=\"-150.2\" font-family=\"Helvetica,sans-Serif\" font-size=\"14.00\">OSAT ≤ 0.5</text>\n<text text-anchor=\"start\" x=\"141.25\" y=\"-133.7\" font-family=\"Helvetica,sans-Serif\" font-size=\"14.00\">entropy = 1.339</text>\n<text text-anchor=\"start\" x=\"143.88\" y=\"-117.2\" font-family=\"Helvetica,sans-Serif\" font-size=\"14.00\">samples = 179</text>\n<text text-anchor=\"start\" x=\"130.75\" y=\"-100.7\" font-family=\"Helvetica,sans-Serif\" font-size=\"14.00\">value = [65, 114, 0]</text>\n</g>\n<!-- 0&#45;&gt;1 -->\n<g id=\"edge1\" class=\"edge\">\n<title>0&#45;&gt;1</title>\n<path fill=\"none\" stroke=\"black\" d=\"M251.57,-203.24C244.37,-194.69 236.6,-185.47 229.12,-176.59\"/>\n<polygon fill=\"black\" stroke=\"black\" points=\"231.85,-174.4 222.73,-169.01 226.5,-178.91 231.85,-174.4\"/>\n<text text-anchor=\"middle\" x=\"219.63\" y=\"-187.71\" font-family=\"Helvetica,sans-Serif\" font-size=\"14.00\">True</text>\n</g>\n<!-- 4 -->\n<g id=\"node5\" class=\"node\">\n<title>4</title>\n<path fill=\"#8139e5\" stroke=\"black\" d=\"M456.5,-167.5C456.5,-167.5 289.75,-167.5 289.75,-167.5 283.75,-167.5 277.75,-161.5 277.75,-155.5 277.75,-155.5 277.75,-105.5 277.75,-105.5 277.75,-99.5 283.75,-93.5 289.75,-93.5 289.75,-93.5 456.5,-93.5 456.5,-93.5 462.5,-93.5 468.5,-99.5 468.5,-105.5 468.5,-105.5 468.5,-155.5 468.5,-155.5 468.5,-161.5 462.5,-167.5 456.5,-167.5\"/>\n<text text-anchor=\"start\" x=\"285.75\" y=\"-150.2\" font-family=\"Helvetica,sans-Serif\" font-size=\"14.00\">Food looks appetizing ≤ 1.5</text>\n<text text-anchor=\"start\" x=\"323.25\" y=\"-133.7\" font-family=\"Helvetica,sans-Serif\" font-size=\"14.00\">entropy = 0.598</text>\n<text text-anchor=\"start\" x=\"325.88\" y=\"-117.2\" font-family=\"Helvetica,sans-Serif\" font-size=\"14.00\">samples = 196</text>\n<text text-anchor=\"start\" x=\"316.88\" y=\"-100.7\" font-family=\"Helvetica,sans-Serif\" font-size=\"14.00\">value = [0, 0, 196]</text>\n</g>\n<!-- 0&#45;&gt;4 -->\n<g id=\"edge4\" class=\"edge\">\n<title>0&#45;&gt;4</title>\n<path fill=\"none\" stroke=\"black\" d=\"M312.68,-203.24C319.88,-194.69 327.65,-185.47 335.13,-176.59\"/>\n<polygon fill=\"black\" stroke=\"black\" points=\"337.75,-178.91 341.52,-169.01 332.4,-174.4 337.75,-178.91\"/>\n<text text-anchor=\"middle\" x=\"344.62\" y=\"-187.71\" font-family=\"Helvetica,sans-Serif\" font-size=\"14.00\">False</text>\n</g>\n<!-- 2 -->\n<g id=\"node3\" class=\"node\">\n<title>2</title>\n<path fill=\"#e58139\" stroke=\"black\" d=\"M108.25,-57.5C108.25,-57.5 12,-57.5 12,-57.5 6,-57.5 0,-51.5 0,-45.5 0,-45.5 0,-12 0,-12 0,-6 6,0 12,0 12,0 108.25,0 108.25,0 114.25,0 120.25,-6 120.25,-12 120.25,-12 120.25,-45.5 120.25,-45.5 120.25,-51.5 114.25,-57.5 108.25,-57.5\"/>\n<text text-anchor=\"start\" x=\"18.5\" y=\"-40.2\" font-family=\"Helvetica,sans-Serif\" font-size=\"14.00\">entropy = 0.0</text>\n<text text-anchor=\"start\" x=\"17\" y=\"-23.7\" font-family=\"Helvetica,sans-Serif\" font-size=\"14.00\">samples = 65</text>\n<text text-anchor=\"start\" x=\"8\" y=\"-7.2\" font-family=\"Helvetica,sans-Serif\" font-size=\"14.00\">value = [65, 0, 0]</text>\n</g>\n<!-- 1&#45;&gt;2 -->\n<g id=\"edge2\" class=\"edge\">\n<title>1&#45;&gt;2</title>\n<path fill=\"none\" stroke=\"black\" d=\"M143.46,-93.21C131.22,-83.88 118.08,-73.88 105.93,-64.63\"/>\n<polygon fill=\"black\" stroke=\"black\" points=\"108.15,-61.92 98.07,-58.64 103.91,-67.49 108.15,-61.92\"/>\n</g>\n<!-- 3 -->\n<g id=\"node4\" class=\"node\">\n<title>3</title>\n<path fill=\"#39e581\" stroke=\"black\" d=\"M254.38,-57.5C254.38,-57.5 149.88,-57.5 149.88,-57.5 143.88,-57.5 137.88,-51.5 137.88,-45.5 137.88,-45.5 137.88,-12 137.88,-12 137.88,-6 143.88,0 149.88,0 149.88,0 254.38,0 254.38,0 260.38,0 266.38,-6 266.38,-12 266.38,-12 266.38,-45.5 266.38,-45.5 266.38,-51.5 260.38,-57.5 254.38,-57.5\"/>\n<text text-anchor=\"start\" x=\"160.5\" y=\"-40.2\" font-family=\"Helvetica,sans-Serif\" font-size=\"14.00\">entropy = 0.0</text>\n<text text-anchor=\"start\" x=\"154.88\" y=\"-23.7\" font-family=\"Helvetica,sans-Serif\" font-size=\"14.00\">samples = 114</text>\n<text text-anchor=\"start\" x=\"145.88\" y=\"-7.2\" font-family=\"Helvetica,sans-Serif\" font-size=\"14.00\">value = [0, 114, 0]</text>\n</g>\n<!-- 1&#45;&gt;3 -->\n<g id=\"edge3\" class=\"edge\">\n<title>1&#45;&gt;3</title>\n<path fill=\"none\" stroke=\"black\" d=\"M195.13,-93.21C195.99,-85.35 196.91,-77 197.79,-69.03\"/>\n<polygon fill=\"black\" stroke=\"black\" points=\"201.26,-69.56 198.87,-59.23 194.3,-68.79 201.26,-69.56\"/>\n</g>\n<!-- 5 -->\n<g id=\"node6\" class=\"node\">\n<title>5</title>\n<path fill=\"#8139e5\" stroke=\"black\" d=\"M406.12,-57.5C406.12,-57.5 318.12,-57.5 318.12,-57.5 312.12,-57.5 306.12,-51.5 306.12,-45.5 306.12,-45.5 306.12,-12 306.12,-12 306.12,-6 312.12,0 318.12,0 318.12,0 406.12,0 406.12,0 412.12,0 418.12,-6 418.12,-12 418.12,-12 418.12,-45.5 418.12,-45.5 418.12,-51.5 412.12,-57.5 406.12,-57.5\"/>\n<text text-anchor=\"start\" x=\"320.5\" y=\"-40.2\" font-family=\"Helvetica,sans-Serif\" font-size=\"14.00\">entropy = 0.0</text>\n<text text-anchor=\"start\" x=\"323.12\" y=\"-23.7\" font-family=\"Helvetica,sans-Serif\" font-size=\"14.00\">samples = 7</text>\n<text text-anchor=\"start\" x=\"314.12\" y=\"-7.2\" font-family=\"Helvetica,sans-Serif\" font-size=\"14.00\">value = [0, 0, 7]</text>\n</g>\n<!-- 4&#45;&gt;5 -->\n<g id=\"edge5\" class=\"edge\">\n<title>4&#45;&gt;5</title>\n<path fill=\"none\" stroke=\"black\" d=\"M369.12,-93.21C368.26,-85.35 367.34,-77 366.46,-69.03\"/>\n<polygon fill=\"black\" stroke=\"black\" points=\"369.95,-68.79 365.38,-59.23 362.99,-69.56 369.95,-68.79\"/>\n</g>\n<!-- 6 -->\n<g id=\"node7\" class=\"node\">\n<title>6</title>\n<path fill=\"#8139e5\" stroke=\"black\" d=\"M552.38,-57.5C552.38,-57.5 447.88,-57.5 447.88,-57.5 441.88,-57.5 435.88,-51.5 435.88,-45.5 435.88,-45.5 435.88,-12 435.88,-12 435.88,-6 441.88,0 447.88,0 447.88,0 552.38,0 552.38,0 558.38,0 564.38,-6 564.38,-12 564.38,-12 564.38,-45.5 564.38,-45.5 564.38,-51.5 558.38,-57.5 552.38,-57.5\"/>\n<text text-anchor=\"start\" x=\"458.5\" y=\"-40.2\" font-family=\"Helvetica,sans-Serif\" font-size=\"14.00\">entropy = 0.0</text>\n<text text-anchor=\"start\" x=\"452.88\" y=\"-23.7\" font-family=\"Helvetica,sans-Serif\" font-size=\"14.00\">samples = 189</text>\n<text text-anchor=\"start\" x=\"443.88\" y=\"-7.2\" font-family=\"Helvetica,sans-Serif\" font-size=\"14.00\">value = [0, 0, 189]</text>\n</g>\n<!-- 4&#45;&gt;6 -->\n<g id=\"edge6\" class=\"edge\">\n<title>4&#45;&gt;6</title>\n<path fill=\"none\" stroke=\"black\" d=\"M419.33,-93.21C431.2,-83.88 443.94,-73.88 455.72,-64.63\"/>\n<polygon fill=\"black\" stroke=\"black\" points=\"457.61,-67.59 463.31,-58.66 453.29,-62.09 457.61,-67.59\"/>\n</g>\n</g>\n</svg>\n",
      "text/plain": "<graphviz.sources.Source at 0x2b20a1060f0>"
     },
     "execution_count": 196,
     "metadata": {},
     "output_type": "execute_result"
    }
   ],
   "source": [
    "graph"
   ],
   "metadata": {
    "collapsed": false,
    "ExecuteTime": {
     "end_time": "2024-01-22T17:01:53.643225900Z",
     "start_time": "2024-01-22T17:01:53.573348700Z"
    }
   },
   "id": "ae2e3f69f94a5c90",
   "execution_count": 196
  }
 ],
 "metadata": {
  "kernelspec": {
   "display_name": "Python 3",
   "language": "python",
   "name": "python3"
  },
  "language_info": {
   "codemirror_mode": {
    "name": "ipython",
    "version": 2
   },
   "file_extension": ".py",
   "mimetype": "text/x-python",
   "name": "python",
   "nbconvert_exporter": "python",
   "pygments_lexer": "ipython2",
   "version": "2.7.6"
  }
 },
 "nbformat": 4,
 "nbformat_minor": 5
}
