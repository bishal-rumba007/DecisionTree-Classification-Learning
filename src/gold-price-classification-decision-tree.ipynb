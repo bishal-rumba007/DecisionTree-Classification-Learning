{
 "cells": [
  {
   "cell_type": "code",
   "execution_count": 143,
   "id": "initial_id",
   "metadata": {
    "collapsed": true,
    "ExecuteTime": {
     "end_time": "2024-01-22T16:31:05.755710800Z",
     "start_time": "2024-01-22T16:31:05.665728Z"
    }
   },
   "outputs": [],
   "source": [
    "import pandas as pd\n",
    "import graphviz\n",
    "import seaborn as sns\n",
    "import matplotlib.pyplot as plt\n",
    "from sklearn.model_selection import train_test_split\n",
    "from sklearn.tree import DecisionTreeClassifier\n",
    "from sklearn.tree import export_graphviz\n",
    "from sklearn.metrics import classification_report\n",
    "from sklearn.metrics import confusion_matrix\n",
    "from sklearn.preprocessing import LabelEncoder"
   ]
  },
  {
   "cell_type": "code",
   "outputs": [],
   "source": [
    "gold_data_path = r'C:\\Users\\Bishal\\PycharmProjects\\machineLearning1\\src\\datasets\\goldstock.csv'\n",
    "gold_data = pd.read_csv(gold_data_path)"
   ],
   "metadata": {
    "collapsed": false,
    "ExecuteTime": {
     "end_time": "2024-01-22T16:31:05.760711400Z",
     "start_time": "2024-01-22T16:31:05.695580400Z"
    }
   },
   "id": "8eeab8fba1b9b404",
   "execution_count": 144
  },
  {
   "cell_type": "code",
   "outputs": [],
   "source": [
    "# Create a new column for price movement direction\n",
    "gold_data['Price_Move'] = gold_data['Close'].diff().apply(lambda x: 'Down' if x < 0 else ('Same' if x == 0 else 'Up'))"
   ],
   "metadata": {
    "collapsed": false,
    "ExecuteTime": {
     "end_time": "2024-01-22T16:31:05.794168700Z",
     "start_time": "2024-01-22T16:31:05.767712600Z"
    }
   },
   "id": "b38ad5e5083a46b7",
   "execution_count": 145
  },
  {
   "cell_type": "code",
   "outputs": [],
   "source": [
    "# Select features\n",
    "features = gold_data[['Volume', 'Open', 'High', 'Low']]\n"
   ],
   "metadata": {
    "collapsed": false,
    "ExecuteTime": {
     "end_time": "2024-01-22T16:31:05.818863900Z",
     "start_time": "2024-01-22T16:31:05.801865300Z"
    }
   },
   "id": "f2525cc628589889",
   "execution_count": 146
  },
  {
   "cell_type": "code",
   "outputs": [],
   "source": [
    "label_encoder = LabelEncoder()\n",
    "y_encoded = label_encoder.fit_transform(gold_data.Price_Move)"
   ],
   "metadata": {
    "collapsed": false,
    "ExecuteTime": {
     "end_time": "2024-01-22T16:31:05.850395500Z",
     "start_time": "2024-01-22T16:31:05.824872700Z"
    }
   },
   "id": "1871bad84c1a0192",
   "execution_count": 147
  },
  {
   "cell_type": "code",
   "outputs": [],
   "source": [
    "# Split the data into training and testing sets\n",
    "X_train, X_test, y_train, y_test = train_test_split(features, gold_data['Price_Move'], test_size=0.2, random_state=42)"
   ],
   "metadata": {
    "collapsed": false,
    "ExecuteTime": {
     "end_time": "2024-01-22T16:31:05.933131100Z",
     "start_time": "2024-01-22T16:31:05.841397700Z"
    }
   },
   "id": "3292db8c989e852a",
   "execution_count": 148
  },
  {
   "cell_type": "code",
   "outputs": [
    {
     "name": "stdout",
     "output_type": "stream",
     "text": [
      "(2008, 4) (503, 4)\n"
     ]
    }
   ],
   "source": [
    "print(X_train.shape, X_test.shape)"
   ],
   "metadata": {
    "collapsed": false,
    "ExecuteTime": {
     "end_time": "2024-01-22T16:31:05.937129300Z",
     "start_time": "2024-01-22T16:31:05.878737800Z"
    }
   },
   "id": "56c31530d8821252",
   "execution_count": 149
  },
  {
   "cell_type": "code",
   "outputs": [],
   "source": [
    "# Create a Decision Tree model\n",
    "dtc = DecisionTreeClassifier(criterion='entropy', max_depth=3)"
   ],
   "metadata": {
    "collapsed": false,
    "ExecuteTime": {
     "end_time": "2024-01-22T16:31:05.996658400Z",
     "start_time": "2024-01-22T16:31:05.911037200Z"
    }
   },
   "id": "fdf6073e575c3403",
   "execution_count": 150
  },
  {
   "cell_type": "code",
   "outputs": [],
   "source": [
    "model = dtc.fit(X_train, y_train)"
   ],
   "metadata": {
    "collapsed": false,
    "ExecuteTime": {
     "end_time": "2024-01-22T16:31:06.039769500Z",
     "start_time": "2024-01-22T16:31:05.944133Z"
    }
   },
   "id": "ae7cbdc18a52e6d7",
   "execution_count": 151
  },
  {
   "cell_type": "code",
   "outputs": [],
   "source": [
    "predictions = model.predict(X_test)"
   ],
   "metadata": {
    "collapsed": false,
    "ExecuteTime": {
     "end_time": "2024-01-22T16:31:06.044770400Z",
     "start_time": "2024-01-22T16:31:06.014770100Z"
    }
   },
   "id": "e0bec03bc556ad9c",
   "execution_count": 152
  },
  {
   "cell_type": "code",
   "outputs": [
    {
     "data": {
      "text/plain": "<Figure size 800x600 with 2 Axes>",
      "image/png": "[encoded data removed]"
     },
     "metadata": {},
     "output_type": "display_data"
    }
   ],
   "source": [
    "matrix = confusion_matrix(y_test, predictions)\n",
    "plt.figure(figsize=(8, 6))\n",
    "sns.heatmap(matrix, annot=True, fmt=\"d\", cmap=\"Blues\", xticklabels=label_encoder.classes_, yticklabels=label_encoder.classes_)\n",
    "plt.title('Confusion Matrix')\n",
    "plt.xlabel('Predicted Label')\n",
    "plt.ylabel('True Label')\n",
    "plt.show()"
   ],
   "metadata": {
    "collapsed": false,
    "ExecuteTime": {
     "end_time": "2024-01-22T16:31:06.370210100Z",
     "start_time": "2024-01-22T16:31:06.056769500Z"
    }
   },
   "id": "cc21d190d4ce1e87",
   "execution_count": 153
  },
  {
   "cell_type": "code",
   "outputs": [
    {
     "name": "stdout",
     "output_type": "stream",
     "text": [
      "\n",
      "Classification Report:\n",
      "               precision    recall  f1-score   support\n",
      "\n",
      "        Down       0.51      0.89      0.64       255\n",
      "        Same       1.00      0.00      0.00         1\n",
      "          Up       0.48      0.11      0.17       247\n",
      "\n",
      "    accuracy                           0.50       503\n",
      "   macro avg       0.66      0.33      0.27       503\n",
      "weighted avg       0.49      0.50      0.41       503\n"
     ]
    }
   ],
   "source": [
    "classification_rep = classification_report(y_test, predictions, zero_division=1)\n",
    "print(\"\\nClassification Report:\\n\", classification_rep)"
   ],
   "metadata": {
    "collapsed": false,
    "ExecuteTime": {
     "end_time": "2024-01-22T16:31:06.482385400Z",
     "start_time": "2024-01-22T16:31:06.362213700Z"
    }
   },
   "id": "8d6673656144d3fe",
   "execution_count": 154
  },
  {
   "cell_type": "code",
   "outputs": [
    {
     "data": {
      "text/plain": "'decision_tree.png'"
     },
     "execution_count": 155,
     "metadata": {},
     "output_type": "execute_result"
    }
   ],
   "source": [
    "dot_data = export_graphviz(\n",
    "    model, out_file=None, feature_names=features.columns,\n",
    "    filled=True, rounded=True, special_characters=True)\n",
    "graph = graphviz.Source(dot_data)\n",
    "graph.render('decision_tree', format='png')"
   ],
   "metadata": {
    "collapsed": false,
    "ExecuteTime": {
     "end_time": "2024-01-22T16:31:06.621328700Z",
     "start_time": "2024-01-22T16:31:06.403383800Z"
    }
   },
   "id": "a309d681bb1baa62",
   "execution_count": 155
  },
  {
   "cell_type": "code",
   "outputs": [
    {
     "data": {
      "image/svg+xml": "<?xml version=\"1.0\" encoding=\"UTF-8\" standalone=\"no\"?>\n<!DOCTYPE svg PUBLIC \"-//W3C//DTD SVG 1.1//EN\"\n \"http://www.w3.org/Graphics/SVG/1.1/DTD/svg11.dtd\">\n<!-- Generated by graphviz version 9.0.0 (20230911.1827)\n -->\n<!-- Title: Tree Pages: 1 -->\n<svg width=\"1183pt\" height=\"396pt\"\n viewBox=\"0.00 0.00 1182.62 395.50\" xmlns=\"http://www.w3.org/2000/svg\" xmlns:xlink=\"http://www.w3.org/1999/xlink\">\n<g id=\"graph0\" class=\"graph\" transform=\"scale(1 1) rotate(0) translate(4 391.5)\">\n<title>Tree</title>\n<polygon fill=\"white\" stroke=\"none\" points=\"-4,4 -4,-391.5 1178.62,-391.5 1178.62,4 -4,4\"/>\n<!-- 0 -->\n<g id=\"node1\" class=\"node\">\n<title>0</title>\n<path fill=\"#fdf6f1\" stroke=\"black\" d=\"M598.75,-387.5C598.75,-387.5 469.5,-387.5 469.5,-387.5 463.5,-387.5 457.5,-381.5 457.5,-375.5 457.5,-375.5 457.5,-325.5 457.5,-325.5 457.5,-319.5 463.5,-313.5 469.5,-313.5 469.5,-313.5 598.75,-313.5 598.75,-313.5 604.75,-313.5 610.75,-319.5 610.75,-325.5 610.75,-325.5 610.75,-375.5 610.75,-375.5 610.75,-381.5 604.75,-387.5 598.75,-387.5\"/>\n<text text-anchor=\"start\" x=\"483.88\" y=\"-370.2\" font-family=\"Helvetica,sans-Serif\" font-size=\"14.00\">Volume ≤ 968.5</text>\n<text text-anchor=\"start\" x=\"484.25\" y=\"-353.7\" font-family=\"Helvetica,sans-Serif\" font-size=\"14.00\">entropy = 1.025</text>\n<text text-anchor=\"start\" x=\"482.75\" y=\"-337.2\" font-family=\"Helvetica,sans-Serif\" font-size=\"14.00\">samples = 2008</text>\n<text text-anchor=\"start\" x=\"465.5\" y=\"-320.7\" font-family=\"Helvetica,sans-Serif\" font-size=\"14.00\">value = [1038, 6, 964]</text>\n</g>\n<!-- 1 -->\n<g id=\"node2\" class=\"node\">\n<title>1</title>\n<path fill=\"#f0b48a\" stroke=\"black\" d=\"M444.38,-277.5C444.38,-277.5 339.88,-277.5 339.88,-277.5 333.88,-277.5 327.88,-271.5 327.88,-265.5 327.88,-265.5 327.88,-215.5 327.88,-215.5 327.88,-209.5 333.88,-203.5 339.88,-203.5 339.88,-203.5 444.38,-203.5 444.38,-203.5 450.38,-203.5 456.38,-209.5 456.38,-215.5 456.38,-215.5 456.38,-265.5 456.38,-265.5 456.38,-271.5 450.38,-277.5 444.38,-277.5\"/>\n<text text-anchor=\"start\" x=\"340.38\" y=\"-260.2\" font-family=\"Helvetica,sans-Serif\" font-size=\"14.00\">Open ≤ 1464.95</text>\n<text text-anchor=\"start\" x=\"342.25\" y=\"-243.7\" font-family=\"Helvetica,sans-Serif\" font-size=\"14.00\">entropy = 0.868</text>\n<text text-anchor=\"start\" x=\"349\" y=\"-227.2\" font-family=\"Helvetica,sans-Serif\" font-size=\"14.00\">samples = 76</text>\n<text text-anchor=\"start\" x=\"335.88\" y=\"-210.7\" font-family=\"Helvetica,sans-Serif\" font-size=\"14.00\">value = [54, 0, 22]</text>\n</g>\n<!-- 0&#45;&gt;1 -->\n<g id=\"edge1\" class=\"edge\">\n<title>0&#45;&gt;1</title>\n<path fill=\"none\" stroke=\"black\" d=\"M486.45,-313.24C474.39,-304.07 461.32,-294.13 448.86,-284.65\"/>\n<polygon fill=\"black\" stroke=\"black\" points=\"451.2,-282.04 441.12,-278.77 446.97,-287.61 451.2,-282.04\"/>\n<text text-anchor=\"middle\" x=\"443.29\" y=\"-297.57\" font-family=\"Helvetica,sans-Serif\" font-size=\"14.00\">True</text>\n</g>\n<!-- 8 -->\n<g id=\"node9\" class=\"node\">\n<title>8</title>\n<path fill=\"#fefaf7\" stroke=\"black\" d=\"M767.62,-277.5C767.62,-277.5 610.62,-277.5 610.62,-277.5 604.62,-277.5 598.62,-271.5 598.62,-265.5 598.62,-265.5 598.62,-215.5 598.62,-215.5 598.62,-209.5 604.62,-203.5 610.62,-203.5 610.62,-203.5 767.62,-203.5 767.62,-203.5 773.62,-203.5 779.62,-209.5 779.62,-215.5 779.62,-215.5 779.62,-265.5 779.62,-265.5 779.62,-271.5 773.62,-277.5 767.62,-277.5\"/>\n<text text-anchor=\"start\" x=\"626.5\" y=\"-260.2\" font-family=\"Helvetica,sans-Serif\" font-size=\"14.00\">Volume ≤ 152607.0</text>\n<text text-anchor=\"start\" x=\"639.25\" y=\"-243.7\" font-family=\"Helvetica,sans-Serif\" font-size=\"14.00\">entropy = 1.027</text>\n<text text-anchor=\"start\" x=\"637.75\" y=\"-227.2\" font-family=\"Helvetica,sans-Serif\" font-size=\"14.00\">samples = 1932</text>\n<text text-anchor=\"start\" x=\"606.62\" y=\"-210.7\" font-family=\"Helvetica,sans-Serif\" font-size=\"14.00\">value = [984.0, 6.0, 942.0]</text>\n</g>\n<!-- 0&#45;&gt;8 -->\n<g id=\"edge8\" class=\"edge\">\n<title>0&#45;&gt;8</title>\n<path fill=\"none\" stroke=\"black\" d=\"M586.17,-313.24C599.46,-303.98 613.87,-293.93 627.59,-284.37\"/>\n<polygon fill=\"black\" stroke=\"black\" points=\"629.51,-287.3 635.71,-278.72 625.51,-281.56 629.51,-287.3\"/>\n<text text-anchor=\"middle\" x=\"632.56\" y=\"-297.41\" font-family=\"Helvetica,sans-Serif\" font-size=\"14.00\">False</text>\n</g>\n<!-- 2 -->\n<g id=\"node3\" class=\"node\">\n<title>2</title>\n<path fill=\"#e88e4e\" stroke=\"black\" d=\"M242.25,-167.5C242.25,-167.5 146,-167.5 146,-167.5 140,-167.5 134,-161.5 134,-155.5 134,-155.5 134,-105.5 134,-105.5 134,-99.5 140,-93.5 146,-93.5 146,-93.5 242.25,-93.5 242.25,-93.5 248.25,-93.5 254.25,-99.5 254.25,-105.5 254.25,-105.5 254.25,-155.5 254.25,-155.5 254.25,-161.5 248.25,-167.5 242.25,-167.5\"/>\n<text text-anchor=\"start\" x=\"143.88\" y=\"-150.2\" font-family=\"Helvetica,sans-Serif\" font-size=\"14.00\">Volume ≤ 542.0</text>\n<text text-anchor=\"start\" x=\"144.25\" y=\"-133.7\" font-family=\"Helvetica,sans-Serif\" font-size=\"14.00\">entropy = 0.454</text>\n<text text-anchor=\"start\" x=\"151\" y=\"-117.2\" font-family=\"Helvetica,sans-Serif\" font-size=\"14.00\">samples = 21</text>\n<text text-anchor=\"start\" x=\"142\" y=\"-100.7\" font-family=\"Helvetica,sans-Serif\" font-size=\"14.00\">value = [19, 0, 2]</text>\n</g>\n<!-- 1&#45;&gt;2 -->\n<g id=\"edge2\" class=\"edge\">\n<title>1&#45;&gt;2</title>\n<path fill=\"none\" stroke=\"black\" d=\"M327.57,-204.29C307.39,-193.28 285.04,-181.09 264.49,-169.88\"/>\n<polygon fill=\"black\" stroke=\"black\" points=\"266.35,-166.91 255.89,-165.19 263,-173.05 266.35,-166.91\"/>\n</g>\n<!-- 5 -->\n<g id=\"node6\" class=\"node\">\n<title>5</title>\n<path fill=\"#f4c9aa\" stroke=\"black\" d=\"M444.38,-167.5C444.38,-167.5 339.88,-167.5 339.88,-167.5 333.88,-167.5 327.88,-161.5 327.88,-155.5 327.88,-155.5 327.88,-105.5 327.88,-105.5 327.88,-99.5 333.88,-93.5 339.88,-93.5 339.88,-93.5 444.38,-93.5 444.38,-93.5 450.38,-93.5 456.38,-99.5 456.38,-105.5 456.38,-105.5 456.38,-155.5 456.38,-155.5 456.38,-161.5 450.38,-167.5 444.38,-167.5\"/>\n<text text-anchor=\"start\" x=\"340.38\" y=\"-150.2\" font-family=\"Helvetica,sans-Serif\" font-size=\"14.00\">Open ≤ 1470.95</text>\n<text text-anchor=\"start\" x=\"342.25\" y=\"-133.7\" font-family=\"Helvetica,sans-Serif\" font-size=\"14.00\">entropy = 0.946</text>\n<text text-anchor=\"start\" x=\"349\" y=\"-117.2\" font-family=\"Helvetica,sans-Serif\" font-size=\"14.00\">samples = 55</text>\n<text text-anchor=\"start\" x=\"335.88\" y=\"-100.7\" font-family=\"Helvetica,sans-Serif\" font-size=\"14.00\">value = [35, 0, 20]</text>\n</g>\n<!-- 1&#45;&gt;5 -->\n<g id=\"edge5\" class=\"edge\">\n<title>1&#45;&gt;5</title>\n<path fill=\"none\" stroke=\"black\" d=\"M392.12,-203.24C392.12,-195.49 392.12,-187.2 392.12,-179.1\"/>\n<polygon fill=\"black\" stroke=\"black\" points=\"395.63,-179.36 392.13,-169.36 388.63,-179.36 395.63,-179.36\"/>\n</g>\n<!-- 3 -->\n<g id=\"node4\" class=\"node\">\n<title>3</title>\n<path fill=\"#e68844\" stroke=\"black\" d=\"M108.25,-57.5C108.25,-57.5 12,-57.5 12,-57.5 6,-57.5 0,-51.5 0,-45.5 0,-45.5 0,-12 0,-12 0,-6 6,0 12,0 12,0 108.25,0 108.25,0 114.25,0 120.25,-6 120.25,-12 120.25,-12 120.25,-45.5 120.25,-45.5 120.25,-51.5 114.25,-57.5 108.25,-57.5\"/>\n<text text-anchor=\"start\" x=\"10.25\" y=\"-40.2\" font-family=\"Helvetica,sans-Serif\" font-size=\"14.00\">entropy = 0.297</text>\n<text text-anchor=\"start\" x=\"17\" y=\"-23.7\" font-family=\"Helvetica,sans-Serif\" font-size=\"14.00\">samples = 19</text>\n<text text-anchor=\"start\" x=\"8\" y=\"-7.2\" font-family=\"Helvetica,sans-Serif\" font-size=\"14.00\">value = [18, 0, 1]</text>\n</g>\n<!-- 2&#45;&gt;3 -->\n<g id=\"edge3\" class=\"edge\">\n<title>2&#45;&gt;3</title>\n<path fill=\"none\" stroke=\"black\" d=\"M145.37,-93.21C132.72,-83.79 119.14,-73.68 106.61,-64.36\"/>\n<polygon fill=\"black\" stroke=\"black\" points=\"109.03,-61.8 98.92,-58.63 104.85,-67.41 109.03,-61.8\"/>\n</g>\n<!-- 4 -->\n<g id=\"node5\" class=\"node\">\n<title>4</title>\n<path fill=\"#ffffff\" stroke=\"black\" d=\"M238.12,-57.5C238.12,-57.5 150.12,-57.5 150.12,-57.5 144.12,-57.5 138.12,-51.5 138.12,-45.5 138.12,-45.5 138.12,-12 138.12,-12 138.12,-6 144.12,0 150.12,0 150.12,0 238.12,0 238.12,0 244.12,0 250.12,-6 250.12,-12 250.12,-12 250.12,-45.5 250.12,-45.5 250.12,-51.5 244.12,-57.5 238.12,-57.5\"/>\n<text text-anchor=\"start\" x=\"152.5\" y=\"-40.2\" font-family=\"Helvetica,sans-Serif\" font-size=\"14.00\">entropy = 1.0</text>\n<text text-anchor=\"start\" x=\"155.12\" y=\"-23.7\" font-family=\"Helvetica,sans-Serif\" font-size=\"14.00\">samples = 2</text>\n<text text-anchor=\"start\" x=\"146.12\" y=\"-7.2\" font-family=\"Helvetica,sans-Serif\" font-size=\"14.00\">value = [1, 0, 1]</text>\n</g>\n<!-- 2&#45;&gt;4 -->\n<g id=\"edge4\" class=\"edge\">\n<title>2&#45;&gt;4</title>\n<path fill=\"none\" stroke=\"black\" d=\"M194.12,-93.21C194.12,-85.35 194.12,-77 194.12,-69.03\"/>\n<polygon fill=\"black\" stroke=\"black\" points=\"197.63,-69.24 194.13,-59.24 190.63,-69.24 197.63,-69.24\"/>\n</g>\n<!-- 6 -->\n<g id=\"node7\" class=\"node\">\n<title>6</title>\n<path fill=\"#a06aec\" stroke=\"black\" d=\"M372,-57.5C372,-57.5 280.25,-57.5 280.25,-57.5 274.25,-57.5 268.25,-51.5 268.25,-45.5 268.25,-45.5 268.25,-12 268.25,-12 268.25,-6 274.25,0 280.25,0 280.25,0 372,0 372,0 378,0 384,-6 384,-12 384,-12 384,-45.5 384,-45.5 384,-51.5 378,-57.5 372,-57.5\"/>\n<text text-anchor=\"start\" x=\"276.25\" y=\"-40.2\" font-family=\"Helvetica,sans-Serif\" font-size=\"14.00\">entropy = 0.722</text>\n<text text-anchor=\"start\" x=\"287.12\" y=\"-23.7\" font-family=\"Helvetica,sans-Serif\" font-size=\"14.00\">samples = 5</text>\n<text text-anchor=\"start\" x=\"278.12\" y=\"-7.2\" font-family=\"Helvetica,sans-Serif\" font-size=\"14.00\">value = [1, 0, 4]</text>\n</g>\n<!-- 5&#45;&gt;6 -->\n<g id=\"edge6\" class=\"edge\">\n<title>5&#45;&gt;6</title>\n<path fill=\"none\" stroke=\"black\" d=\"M368.11,-93.21C362.49,-84.71 356.49,-75.64 350.83,-67.09\"/>\n<polygon fill=\"black\" stroke=\"black\" points=\"353.91,-65.4 345.47,-58.99 348.07,-69.26 353.91,-65.4\"/>\n</g>\n<!-- 7 -->\n<g id=\"node8\" class=\"node\">\n<title>7</title>\n<path fill=\"#f1bc96\" stroke=\"black\" d=\"M518.38,-57.5C518.38,-57.5 413.88,-57.5 413.88,-57.5 407.88,-57.5 401.88,-51.5 401.88,-45.5 401.88,-45.5 401.88,-12 401.88,-12 401.88,-6 407.88,0 413.88,0 413.88,0 518.38,0 518.38,0 524.38,0 530.38,-6 530.38,-12 530.38,-12 530.38,-45.5 530.38,-45.5 530.38,-51.5 524.38,-57.5 518.38,-57.5\"/>\n<text text-anchor=\"start\" x=\"416.25\" y=\"-40.2\" font-family=\"Helvetica,sans-Serif\" font-size=\"14.00\">entropy = 0.904</text>\n<text text-anchor=\"start\" x=\"423\" y=\"-23.7\" font-family=\"Helvetica,sans-Serif\" font-size=\"14.00\">samples = 50</text>\n<text text-anchor=\"start\" x=\"409.88\" y=\"-7.2\" font-family=\"Helvetica,sans-Serif\" font-size=\"14.00\">value = [34, 0, 16]</text>\n</g>\n<!-- 5&#45;&gt;7 -->\n<g id=\"edge7\" class=\"edge\">\n<title>5&#45;&gt;7</title>\n<path fill=\"none\" stroke=\"black\" d=\"M419.05,-93.21C425.42,-84.62 432.23,-75.44 438.63,-66.82\"/>\n<polygon fill=\"black\" stroke=\"black\" points=\"441.32,-69.06 444.47,-58.94 435.7,-64.89 441.32,-69.06\"/>\n</g>\n<!-- 9 -->\n<g id=\"node10\" class=\"node\">\n<title>9</title>\n<path fill=\"#f0e7fc\" stroke=\"black\" d=\"M749.62,-167.5C749.62,-167.5 628.62,-167.5 628.62,-167.5 622.62,-167.5 616.62,-161.5 616.62,-155.5 616.62,-155.5 616.62,-105.5 616.62,-105.5 616.62,-99.5 622.62,-93.5 628.62,-93.5 628.62,-93.5 749.62,-93.5 749.62,-93.5 755.62,-93.5 761.62,-99.5 761.62,-105.5 761.62,-105.5 761.62,-155.5 761.62,-155.5 761.62,-161.5 755.62,-167.5 749.62,-167.5\"/>\n<text text-anchor=\"start\" x=\"626.5\" y=\"-150.2\" font-family=\"Helvetica,sans-Serif\" font-size=\"14.00\">Volume ≤ 133142.0</text>\n<text text-anchor=\"start\" x=\"639.25\" y=\"-133.7\" font-family=\"Helvetica,sans-Serif\" font-size=\"14.00\">entropy = 1.023</text>\n<text text-anchor=\"start\" x=\"641.88\" y=\"-117.2\" font-family=\"Helvetica,sans-Serif\" font-size=\"14.00\">samples = 695</text>\n<text text-anchor=\"start\" x=\"624.62\" y=\"-100.7\" font-family=\"Helvetica,sans-Serif\" font-size=\"14.00\">value = [324, 2, 369]</text>\n</g>\n<!-- 8&#45;&gt;9 -->\n<g id=\"edge9\" class=\"edge\">\n<title>8&#45;&gt;9</title>\n<path fill=\"none\" stroke=\"black\" d=\"M689.12,-203.24C689.12,-195.49 689.12,-187.2 689.12,-179.1\"/>\n<polygon fill=\"black\" stroke=\"black\" points=\"692.63,-179.36 689.13,-169.36 685.63,-179.36 692.63,-179.36\"/>\n</g>\n<!-- 12 -->\n<g id=\"node13\" class=\"node\">\n<title>12</title>\n<path fill=\"#fceee5\" stroke=\"black\" d=\"M1017.62,-167.5C1017.62,-167.5 860.62,-167.5 860.62,-167.5 854.62,-167.5 848.62,-161.5 848.62,-155.5 848.62,-155.5 848.62,-105.5 848.62,-105.5 848.62,-99.5 854.62,-93.5 860.62,-93.5 860.62,-93.5 1017.62,-93.5 1017.62,-93.5 1023.62,-93.5 1029.62,-99.5 1029.62,-105.5 1029.62,-105.5 1029.62,-155.5 1029.62,-155.5 1029.62,-161.5 1023.62,-167.5 1017.62,-167.5\"/>\n<text text-anchor=\"start\" x=\"876.5\" y=\"-150.2\" font-family=\"Helvetica,sans-Serif\" font-size=\"14.00\">Volume ≤ 183431.5</text>\n<text text-anchor=\"start\" x=\"889.25\" y=\"-133.7\" font-family=\"Helvetica,sans-Serif\" font-size=\"14.00\">entropy = 1.025</text>\n<text text-anchor=\"start\" x=\"887.75\" y=\"-117.2\" font-family=\"Helvetica,sans-Serif\" font-size=\"14.00\">samples = 1237</text>\n<text text-anchor=\"start\" x=\"856.62\" y=\"-100.7\" font-family=\"Helvetica,sans-Serif\" font-size=\"14.00\">value = [660.0, 4.0, 573.0]</text>\n</g>\n<!-- 8&#45;&gt;12 -->\n<g id=\"edge12\" class=\"edge\">\n<title>8&#45;&gt;12</title>\n<path fill=\"none\" stroke=\"black\" d=\"M773.42,-203.09C796.26,-193.22 821.14,-182.47 844.51,-172.37\"/>\n<polygon fill=\"black\" stroke=\"black\" points=\"845.59,-175.72 853.39,-168.54 842.82,-169.29 845.59,-175.72\"/>\n</g>\n<!-- 10 -->\n<g id=\"node11\" class=\"node\">\n<title>10</title>\n<path fill=\"#fefcfa\" stroke=\"black\" d=\"M681.62,-57.5C681.62,-57.5 560.62,-57.5 560.62,-57.5 554.62,-57.5 548.62,-51.5 548.62,-45.5 548.62,-45.5 548.62,-12 548.62,-12 548.62,-6 554.62,0 560.62,0 560.62,0 681.62,0 681.62,0 687.62,0 693.62,-6 693.62,-12 693.62,-12 693.62,-45.5 693.62,-45.5 693.62,-51.5 687.62,-57.5 681.62,-57.5\"/>\n<text text-anchor=\"start\" x=\"571.25\" y=\"-40.2\" font-family=\"Helvetica,sans-Serif\" font-size=\"14.00\">entropy = 1.034</text>\n<text text-anchor=\"start\" x=\"573.88\" y=\"-23.7\" font-family=\"Helvetica,sans-Serif\" font-size=\"14.00\">samples = 484</text>\n<text text-anchor=\"start\" x=\"556.62\" y=\"-7.2\" font-family=\"Helvetica,sans-Serif\" font-size=\"14.00\">value = [244, 2, 238]</text>\n</g>\n<!-- 9&#45;&gt;10 -->\n<g id=\"edge10\" class=\"edge\">\n<title>9&#45;&gt;10</title>\n<path fill=\"none\" stroke=\"black\" d=\"M664.38,-93.21C658.59,-84.71 652.41,-75.64 646.58,-67.09\"/>\n<polygon fill=\"black\" stroke=\"black\" points=\"649.57,-65.27 641.05,-58.98 643.79,-69.21 649.57,-65.27\"/>\n</g>\n<!-- 11 -->\n<g id=\"node12\" class=\"node\">\n<title>11</title>\n<path fill=\"#ceb2f5\" stroke=\"black\" d=\"M836.5,-57.5C836.5,-57.5 723.75,-57.5 723.75,-57.5 717.75,-57.5 711.75,-51.5 711.75,-45.5 711.75,-45.5 711.75,-12 711.75,-12 711.75,-6 717.75,0 723.75,0 723.75,0 836.5,0 836.5,0 842.5,0 848.5,-6 848.5,-12 848.5,-12 848.5,-45.5 848.5,-45.5 848.5,-51.5 842.5,-57.5 836.5,-57.5\"/>\n<text text-anchor=\"start\" x=\"730.25\" y=\"-40.2\" font-family=\"Helvetica,sans-Serif\" font-size=\"14.00\">entropy = 0.957</text>\n<text text-anchor=\"start\" x=\"732.88\" y=\"-23.7\" font-family=\"Helvetica,sans-Serif\" font-size=\"14.00\">samples = 211</text>\n<text text-anchor=\"start\" x=\"719.75\" y=\"-7.2\" font-family=\"Helvetica,sans-Serif\" font-size=\"14.00\">value = [80, 0, 131]</text>\n</g>\n<!-- 9&#45;&gt;11 -->\n<g id=\"edge11\" class=\"edge\">\n<title>9&#45;&gt;11</title>\n<path fill=\"none\" stroke=\"black\" d=\"M722.24,-93.21C730.32,-84.34 738.98,-74.86 747.06,-65.99\"/>\n<polygon fill=\"black\" stroke=\"black\" points=\"749.43,-68.59 753.58,-58.85 744.26,-63.87 749.43,-68.59\"/>\n</g>\n<!-- 13 -->\n<g id=\"node14\" class=\"node\">\n<title>13</title>\n<path fill=\"#f7d7c1\" stroke=\"black\" d=\"M999.62,-57.5C999.62,-57.5 878.62,-57.5 878.62,-57.5 872.62,-57.5 866.62,-51.5 866.62,-45.5 866.62,-45.5 866.62,-12 866.62,-12 866.62,-6 872.62,0 878.62,0 878.62,0 999.62,0 999.62,0 1005.62,0 1011.62,-6 1011.62,-12 1011.62,-12 1011.62,-45.5 1011.62,-45.5 1011.62,-51.5 1005.62,-57.5 999.62,-57.5\"/>\n<text text-anchor=\"start\" x=\"889.25\" y=\"-40.2\" font-family=\"Helvetica,sans-Serif\" font-size=\"14.00\">entropy = 0.975</text>\n<text text-anchor=\"start\" x=\"891.88\" y=\"-23.7\" font-family=\"Helvetica,sans-Serif\" font-size=\"14.00\">samples = 315</text>\n<text text-anchor=\"start\" x=\"874.62\" y=\"-7.2\" font-family=\"Helvetica,sans-Serif\" font-size=\"14.00\">value = [187, 0, 128]</text>\n</g>\n<!-- 12&#45;&gt;13 -->\n<g id=\"edge13\" class=\"edge\">\n<title>12&#45;&gt;13</title>\n<path fill=\"none\" stroke=\"black\" d=\"M939.12,-93.21C939.12,-85.35 939.12,-77 939.12,-69.03\"/>\n<polygon fill=\"black\" stroke=\"black\" points=\"942.63,-69.24 939.13,-59.24 935.63,-69.24 942.63,-69.24\"/>\n</g>\n<!-- 14 -->\n<g id=\"node15\" class=\"node\">\n<title>14</title>\n<path fill=\"#fdf8f3\" stroke=\"black\" d=\"M1162.62,-57.5C1162.62,-57.5 1041.62,-57.5 1041.62,-57.5 1035.62,-57.5 1029.62,-51.5 1029.62,-45.5 1029.62,-45.5 1029.62,-12 1029.62,-12 1029.62,-6 1035.62,0 1041.62,0 1041.62,0 1162.62,0 1162.62,0 1168.62,0 1174.62,-6 1174.62,-12 1174.62,-12 1174.62,-45.5 1174.62,-45.5 1174.62,-51.5 1168.62,-57.5 1162.62,-57.5\"/>\n<text text-anchor=\"start\" x=\"1052.25\" y=\"-40.2\" font-family=\"Helvetica,sans-Serif\" font-size=\"14.00\">entropy = 1.035</text>\n<text text-anchor=\"start\" x=\"1054.88\" y=\"-23.7\" font-family=\"Helvetica,sans-Serif\" font-size=\"14.00\">samples = 922</text>\n<text text-anchor=\"start\" x=\"1037.62\" y=\"-7.2\" font-family=\"Helvetica,sans-Serif\" font-size=\"14.00\">value = [473, 4, 445]</text>\n</g>\n<!-- 12&#45;&gt;14 -->\n<g id=\"edge14\" class=\"edge\">\n<title>12&#45;&gt;14</title>\n<path fill=\"none\" stroke=\"black\" d=\"M998.43,-93.21C1014.19,-83.56 1031.14,-73.19 1046.68,-63.68\"/>\n<polygon fill=\"black\" stroke=\"black\" points=\"1048.16,-66.88 1054.86,-58.68 1044.5,-60.91 1048.16,-66.88\"/>\n</g>\n</g>\n</svg>\n",
      "text/plain": "<graphviz.sources.Source at 0x18fa03d4d70>"
     },
     "execution_count": 156,
     "metadata": {},
     "output_type": "execute_result"
    }
   ],
   "source": [
    "graph"
   ],
   "metadata": {
    "collapsed": false,
    "ExecuteTime": {
     "end_time": "2024-01-22T16:31:06.718842200Z",
     "start_time": "2024-01-22T16:31:06.610333700Z"
    }
   },
   "id": "460fffbf9874c2f",
   "execution_count": 156
  },
  {
   "cell_type": "code",
   "outputs": [],
   "source": [],
   "metadata": {
    "collapsed": false,
    "ExecuteTime": {
     "end_time": "2024-01-22T16:31:06.720845700Z",
     "start_time": "2024-01-22T16:31:06.708177400Z"
    }
   },
   "id": "da456bd84975025",
   "execution_count": 156
  }
 ],
 "metadata": {
  "kernelspec": {
   "display_name": "Python 3",
   "language": "python",
   "name": "python3"
  },
  "language_info": {
   "codemirror_mode": {
    "name": "ipython",
    "version": 2
   },
   "file_extension": ".py",
   "mimetype": "text/x-python",
   "name": "python",
   "nbconvert_exporter": "python",
   "pygments_lexer": "ipython2",
   "version": "2.7.6"
  }
 },
 "nbformat": 4,
 "nbformat_minor": 5
}
